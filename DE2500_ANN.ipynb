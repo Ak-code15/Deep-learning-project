{
 "cells": [
  {
   "cell_type": "markdown",
   "metadata": {
    "id": "f3LAJ8cXAbaU"
   },
   "source": [
    "\n",
    "### Importing Libraries "
   ]
  },
  {
   "cell_type": "code",
   "execution_count": 1,
   "metadata": {
    "executionInfo": {
     "elapsed": 2239,
     "status": "ok",
     "timestamp": 1628090282347,
     "user": {
      "displayName": "Nawaz NM",
      "photoUrl": "https://lh3.googleusercontent.com/a-/AOh14GgewJHtCrvL1OtL24NKc-IuG_YYfVEOazEnrtVtUg=s64",
      "userId": "10329758736889037941"
     },
     "user_tz": -330
    },
    "id": "BibPtjWE_pbe"
   },
   "outputs": [],
   "source": [
    "import numpy as np\n",
    "import pandas as pd\n",
    "import tensorflow as tf\n",
    "import matplotlib.pyplot as plt "
   ]
  },
  {
   "cell_type": "code",
   "execution_count": 2,
   "metadata": {
    "colab": {
     "base_uri": "https://localhost:8080/",
     "height": 36
    },
    "executionInfo": {
     "elapsed": 18,
     "status": "ok",
     "timestamp": 1628090282351,
     "user": {
      "displayName": "Nawaz NM",
      "photoUrl": "https://lh3.googleusercontent.com/a-/AOh14GgewJHtCrvL1OtL24NKc-IuG_YYfVEOazEnrtVtUg=s64",
      "userId": "10329758736889037941"
     },
     "user_tz": -330
    },
    "id": "kDd_PIFGAGPU",
    "outputId": "a8eb991d-36a2-4ae7-b56e-cb083ae86539"
   },
   "outputs": [
    {
     "data": {
      "application/vnd.google.colaboratory.intrinsic+json": {
       "type": "string"
      },
      "text/plain": [
       "'2.5.0'"
      ]
     },
     "execution_count": 2,
     "metadata": {
      "tags": []
     },
     "output_type": "execute_result"
    }
   ],
   "source": [
    "tf.__version__"
   ]
  },
  {
   "cell_type": "code",
   "execution_count": 3,
   "metadata": {
    "colab": {
     "base_uri": "https://localhost:8080/"
    },
    "executionInfo": {
     "elapsed": 15,
     "status": "ok",
     "timestamp": 1628090282352,
     "user": {
      "displayName": "Nawaz NM",
      "photoUrl": "https://lh3.googleusercontent.com/a-/AOh14GgewJHtCrvL1OtL24NKc-IuG_YYfVEOazEnrtVtUg=s64",
      "userId": "10329758736889037941"
     },
     "user_tz": -330
    },
    "id": "_euJruQbYZR3",
    "outputId": "0bf5f36b-cb67-4451-c411-80c250cb49a6"
   },
   "outputs": [
    {
     "name": "stdout",
     "output_type": "stream",
     "text": [
      "Drive already mounted at /content/drive; to attempt to forcibly remount, call drive.mount(\"/content/drive\", force_remount=True).\n"
     ]
    }
   ],
   "source": [
    "from google.colab import drive\n",
    "drive.mount('/content/drive')"
   ]
  },
  {
   "cell_type": "markdown",
   "metadata": {
    "id": "Vw0ezPo6Ahjk"
   },
   "source": [
    "### **Importing Dataset**"
   ]
  },
  {
   "cell_type": "code",
   "execution_count": 147,
   "metadata": {
    "executionInfo": {
     "elapsed": 4829,
     "status": "ok",
     "timestamp": 1628100988745,
     "user": {
      "displayName": "Nawaz NM",
      "photoUrl": "https://lh3.googleusercontent.com/a-/AOh14GgewJHtCrvL1OtL24NKc-IuG_YYfVEOazEnrtVtUg=s64",
      "userId": "10329758736889037941"
     },
     "user_tz": -330
    },
    "id": "hBZbRblzAa31"
   },
   "outputs": [],
   "source": [
    "dataset = pd.read_excel('/content/drive/MyDrive/DE3500_MTP/Features_2500RPM_60dB.xlsx')"
   ]
  },
  {
   "cell_type": "markdown",
   "metadata": {
    "id": "me_F5zuwM1MI"
   },
   "source": [
    "# Use Different y values for different Problem Formulations"
   ]
  },
  {
   "cell_type": "code",
   "execution_count": 148,
   "metadata": {
    "executionInfo": {
     "elapsed": 35,
     "status": "ok",
     "timestamp": 1628100988745,
     "user": {
      "displayName": "Nawaz NM",
      "photoUrl": "https://lh3.googleusercontent.com/a-/AOh14GgewJHtCrvL1OtL24NKc-IuG_YYfVEOazEnrtVtUg=s64",
      "userId": "10329758736889037941"
     },
     "user_tz": -330
    },
    "id": "KLZL4VmwAa1D"
   },
   "outputs": [],
   "source": [
    "X = dataset.iloc[:, :-14].values\n",
    "y_14 = dataset.iloc[:,-1].values\n",
    "y_4 = dataset.iloc[:,-2].values"
   ]
  },
  {
   "cell_type": "code",
   "execution_count": 149,
   "metadata": {
    "executionInfo": {
     "elapsed": 34,
     "status": "ok",
     "timestamp": 1628100988746,
     "user": {
      "displayName": "Nawaz NM",
      "photoUrl": "https://lh3.googleusercontent.com/a-/AOh14GgewJHtCrvL1OtL24NKc-IuG_YYfVEOazEnrtVtUg=s64",
      "userId": "10329758736889037941"
     },
     "user_tz": -330
    },
    "id": "ZmyItbPRkJ79"
   },
   "outputs": [],
   "source": [
    "y_OHE = y_14\n",
    "y_OHE_4 = y_4"
   ]
  },
  {
   "cell_type": "code",
   "execution_count": 150,
   "metadata": {
    "colab": {
     "base_uri": "https://localhost:8080/"
    },
    "executionInfo": {
     "elapsed": 33,
     "status": "ok",
     "timestamp": 1628100988747,
     "user": {
      "displayName": "Nawaz NM",
      "photoUrl": "https://lh3.googleusercontent.com/a-/AOh14GgewJHtCrvL1OtL24NKc-IuG_YYfVEOazEnrtVtUg=s64",
      "userId": "10329758736889037941"
     },
     "user_tz": -330
    },
    "id": "Si22YupIBv25",
    "outputId": "f2e918bc-835a-4fb4-f06f-c9464b91ee57"
   },
   "outputs": [
    {
     "name": "stdout",
     "output_type": "stream",
     "text": [
      "(3500, 85)\n",
      "(3500,)\n"
     ]
    }
   ],
   "source": [
    "print(X.shape)\n",
    "print(y_14.shape)"
   ]
  },
  {
   "cell_type": "code",
   "execution_count": 151,
   "metadata": {
    "colab": {
     "base_uri": "https://localhost:8080/"
    },
    "executionInfo": {
     "elapsed": 26,
     "status": "ok",
     "timestamp": 1628100988748,
     "user": {
      "displayName": "Nawaz NM",
      "photoUrl": "https://lh3.googleusercontent.com/a-/AOh14GgewJHtCrvL1OtL24NKc-IuG_YYfVEOazEnrtVtUg=s64",
      "userId": "10329758736889037941"
     },
     "user_tz": -330
    },
    "id": "5ATFK1NYBv0H",
    "outputId": "93d23d7c-a72e-43ce-9987-20b954e6f830"
   },
   "outputs": [
    {
     "name": "stdout",
     "output_type": "stream",
     "text": [
      "['Normal' 'Pressure Reduction In Intake Manifold'\n",
      " 'Compression Ratio Reduction in Cylinders'\n",
      " 'Reduction in Amount of Fuel Injected into Cylinders']\n"
     ]
    }
   ],
   "source": [
    "print(pd.unique(y_4))"
   ]
  },
  {
   "cell_type": "markdown",
   "metadata": {
    "id": "tigfQefciDKK"
   },
   "source": [
    "### One-Hot Encoding Output Variable"
   ]
  },
  {
   "cell_type": "code",
   "execution_count": 152,
   "metadata": {
    "colab": {
     "base_uri": "https://localhost:8080/"
    },
    "executionInfo": {
     "elapsed": 24,
     "status": "ok",
     "timestamp": 1628100988748,
     "user": {
      "displayName": "Nawaz NM",
      "photoUrl": "https://lh3.googleusercontent.com/a-/AOh14GgewJHtCrvL1OtL24NKc-IuG_YYfVEOazEnrtVtUg=s64",
      "userId": "10329758736889037941"
     },
     "user_tz": -330
    },
    "id": "OW30UtmSKrJP",
    "outputId": "7bf62f94-1b44-491a-b4ec-7469f253e3a3"
   },
   "outputs": [
    {
     "name": "stdout",
     "output_type": "stream",
     "text": [
      "[[1. 0. 1. ... 0. 1. 0.]\n",
      " [1. 0. 1. ... 0. 1. 0.]\n",
      " [1. 0. 1. ... 0. 1. 0.]\n",
      " ...\n",
      " [1. 0. 1. ... 0. 0. 1.]\n",
      " [1. 0. 1. ... 0. 0. 1.]\n",
      " [1. 0. 1. ... 0. 0. 1.]]\n"
     ]
    }
   ],
   "source": [
    "from sklearn.preprocessing import OneHotEncoder\n",
    "encoder = OneHotEncoder(sparse=False)\n",
    "y_OHE = pd.get_dummies(y_OHE)\n",
    "onehot = encoder.fit_transform(y_OHE)\n",
    "print(onehot)"
   ]
  },
  {
   "cell_type": "code",
   "execution_count": 153,
   "metadata": {
    "colab": {
     "base_uri": "https://localhost:8080/"
    },
    "executionInfo": {
     "elapsed": 24,
     "status": "ok",
     "timestamp": 1628100988750,
     "user": {
      "displayName": "Nawaz NM",
      "photoUrl": "https://lh3.googleusercontent.com/a-/AOh14GgewJHtCrvL1OtL24NKc-IuG_YYfVEOazEnrtVtUg=s64",
      "userId": "10329758736889037941"
     },
     "user_tz": -330
    },
    "id": "xXaVmFw4n6ap",
    "outputId": "826fea01-cc30-4ec1-e94f-f0a32cedb5a3"
   },
   "outputs": [
    {
     "name": "stdout",
     "output_type": "stream",
     "text": [
      "[[1. 0. 0. ... 0. 1. 0.]\n",
      " [1. 0. 0. ... 0. 1. 0.]\n",
      " [1. 0. 0. ... 0. 1. 0.]\n",
      " ...\n",
      " [1. 0. 1. ... 0. 0. 1.]\n",
      " [1. 0. 1. ... 0. 0. 1.]\n",
      " [1. 0. 1. ... 0. 0. 1.]]\n"
     ]
    }
   ],
   "source": [
    "from sklearn.preprocessing import OneHotEncoder\n",
    "encoder = OneHotEncoder(sparse=False)\n",
    "y_OHE_4 = pd.get_dummies(y_OHE_4)\n",
    "onehot = encoder.fit_transform(y_OHE_4)\n",
    "print(onehot)"
   ]
  },
  {
   "cell_type": "markdown",
   "metadata": {
    "id": "JQJnD7BuCrZY"
   },
   "source": [
    "### Splitting Dataset into Train & Test"
   ]
  },
  {
   "cell_type": "code",
   "execution_count": 154,
   "metadata": {
    "executionInfo": {
     "elapsed": 24,
     "status": "ok",
     "timestamp": 1628100988751,
     "user": {
      "displayName": "Nawaz NM",
      "photoUrl": "https://lh3.googleusercontent.com/a-/AOh14GgewJHtCrvL1OtL24NKc-IuG_YYfVEOazEnrtVtUg=s64",
      "userId": "10329758736889037941"
     },
     "user_tz": -330
    },
    "id": "7ZDgCqp8AayB"
   },
   "outputs": [],
   "source": [
    "from sklearn.model_selection import train_test_split\n",
    "X_OHE_train, X_OHE_test, y_OHE_train, y_OHE_test = train_test_split(X, y_OHE, test_size = 0.2, random_state = 0)  "
   ]
  },
  {
   "cell_type": "code",
   "execution_count": 155,
   "metadata": {
    "executionInfo": {
     "elapsed": 24,
     "status": "ok",
     "timestamp": 1628100988753,
     "user": {
      "displayName": "Nawaz NM",
      "photoUrl": "https://lh3.googleusercontent.com/a-/AOh14GgewJHtCrvL1OtL24NKc-IuG_YYfVEOazEnrtVtUg=s64",
      "userId": "10329758736889037941"
     },
     "user_tz": -330
    },
    "id": "KQKU7065oIFA"
   },
   "outputs": [],
   "source": [
    "from sklearn.model_selection import train_test_split\n",
    "X_OHE_4_train, X_OHE_4_test, y_OHE_4_train, y_OHE_4_test = train_test_split(X, y_OHE_4, test_size = 0.2, random_state = 0)  "
   ]
  },
  {
   "cell_type": "markdown",
   "metadata": {
    "id": "-6SBjO9rC4WM"
   },
   "source": [
    "### Feature Scaling"
   ]
  },
  {
   "cell_type": "code",
   "execution_count": 156,
   "metadata": {
    "executionInfo": {
     "elapsed": 25,
     "status": "ok",
     "timestamp": 1628100988754,
     "user": {
      "displayName": "Nawaz NM",
      "photoUrl": "https://lh3.googleusercontent.com/a-/AOh14GgewJHtCrvL1OtL24NKc-IuG_YYfVEOazEnrtVtUg=s64",
      "userId": "10329758736889037941"
     },
     "user_tz": -330
    },
    "id": "O7qIGoHLC5m3"
   },
   "outputs": [],
   "source": [
    "from sklearn.preprocessing import StandardScaler\n",
    "sc = StandardScaler()\n",
    "X_OHE_train = sc.fit_transform(X_OHE_train)\n",
    "X_OHE_test = sc.transform(X_OHE_test)\n"
   ]
  },
  {
   "cell_type": "code",
   "execution_count": 157,
   "metadata": {
    "executionInfo": {
     "elapsed": 26,
     "status": "ok",
     "timestamp": 1628100988755,
     "user": {
      "displayName": "Nawaz NM",
      "photoUrl": "https://lh3.googleusercontent.com/a-/AOh14GgewJHtCrvL1OtL24NKc-IuG_YYfVEOazEnrtVtUg=s64",
      "userId": "10329758736889037941"
     },
     "user_tz": -330
    },
    "id": "gxv-IealoSqV"
   },
   "outputs": [],
   "source": [
    "from sklearn.preprocessing import StandardScaler\n",
    "sc = StandardScaler()\n",
    "X_OHE_4_train = sc.fit_transform(X_OHE_4_train)\n",
    "X_OHE_4_test = sc.transform(X_OHE_4_test)\n"
   ]
  },
  {
   "cell_type": "markdown",
   "metadata": {
    "id": "DixaW3sWk0dI"
   },
   "source": [
    "## ANN For 14 - Class Problem"
   ]
  },
  {
   "cell_type": "code",
   "execution_count": 158,
   "metadata": {
    "executionInfo": {
     "elapsed": 25,
     "status": "ok",
     "timestamp": 1628100988755,
     "user": {
      "displayName": "Nawaz NM",
      "photoUrl": "https://lh3.googleusercontent.com/a-/AOh14GgewJHtCrvL1OtL24NKc-IuG_YYfVEOazEnrtVtUg=s64",
      "userId": "10329758736889037941"
     },
     "user_tz": -330
    },
    "id": "BQle1UAqEn-g"
   },
   "outputs": [],
   "source": [
    "ann_OHE = tf.keras.models.Sequential()"
   ]
  },
  {
   "cell_type": "code",
   "execution_count": 159,
   "metadata": {
    "executionInfo": {
     "elapsed": 24,
     "status": "ok",
     "timestamp": 1628100988755,
     "user": {
      "displayName": "Nawaz NM",
      "photoUrl": "https://lh3.googleusercontent.com/a-/AOh14GgewJHtCrvL1OtL24NKc-IuG_YYfVEOazEnrtVtUg=s64",
      "userId": "10329758736889037941"
     },
     "user_tz": -330
    },
    "id": "eufPQSmjEn4_"
   },
   "outputs": [],
   "source": [
    "ann_OHE.add(tf.keras.layers.Dense(units = 84, activation = 'relu'))"
   ]
  },
  {
   "cell_type": "code",
   "execution_count": 1,
   "metadata": {
    "executionInfo": {
     "elapsed": 24,
     "status": "ok",
     "timestamp": 1628100988755,
     "user": {
      "displayName": "Nawaz NM",
      "photoUrl": "https://lh3.googleusercontent.com/a-/AOh14GgewJHtCrvL1OtL24NKc-IuG_YYfVEOazEnrtVtUg=s64",
      "userId": "10329758736889037941"
     },
     "user_tz": -330
    },
    "id": "5ST3_hbWEn0s"
   },
   "outputs": [
    {
     "ename": "NameError",
     "evalue": "name 'ann_OHE' is not defined",
     "output_type": "error",
     "traceback": [
      "\u001b[1;31m---------------------------------------------------------------------------\u001b[0m",
      "\u001b[1;31mNameError\u001b[0m                                 Traceback (most recent call last)",
      "\u001b[1;32m<ipython-input-1-0383940b4722>\u001b[0m in \u001b[0;36m<module>\u001b[1;34m\u001b[0m\n\u001b[1;32m----> 1\u001b[1;33m \u001b[0mann_OHE\u001b[0m\u001b[1;33m.\u001b[0m\u001b[0madd\u001b[0m\u001b[1;33m(\u001b[0m\u001b[0mtf\u001b[0m\u001b[1;33m.\u001b[0m\u001b[0mkeras\u001b[0m\u001b[1;33m.\u001b[0m\u001b[0mlayers\u001b[0m\u001b[1;33m.\u001b[0m\u001b[0mDense\u001b[0m\u001b[1;33m(\u001b[0m\u001b[0munits\u001b[0m \u001b[1;33m=\u001b[0m \u001b[1;36m14\u001b[0m\u001b[1;33m,\u001b[0m \u001b[0mactivation\u001b[0m \u001b[1;33m=\u001b[0m \u001b[1;34m'sigmoid'\u001b[0m\u001b[1;33m)\u001b[0m\u001b[1;33m)\u001b[0m\u001b[1;33m\u001b[0m\u001b[1;33m\u001b[0m\u001b[0m\n\u001b[0m",
      "\u001b[1;31mNameError\u001b[0m: name 'ann_OHE' is not defined"
     ]
    }
   ],
   "source": [
    "ann_OHE.add(tf.keras.layers.Dense(units = 14, activation = 'softmax'))"
   ]
  },
  {
   "cell_type": "code",
   "execution_count": 2,
   "metadata": {
    "executionInfo": {
     "elapsed": 21,
     "status": "ok",
     "timestamp": 1628100988756,
     "user": {
      "displayName": "Nawaz NM",
      "photoUrl": "https://lh3.googleusercontent.com/a-/AOh14GgewJHtCrvL1OtL24NKc-IuG_YYfVEOazEnrtVtUg=s64",
      "userId": "10329758736889037941"
     },
     "user_tz": -330
    },
    "id": "4N9etSpCUyYn"
   },
   "outputs": [
    {
     "ename": "NameError",
     "evalue": "name 'ann_OHE' is not defined",
     "output_type": "error",
     "traceback": [
      "\u001b[1;31m---------------------------------------------------------------------------\u001b[0m",
      "\u001b[1;31mNameError\u001b[0m                                 Traceback (most recent call last)",
      "\u001b[1;32m<ipython-input-2-0bfdebf14699>\u001b[0m in \u001b[0;36m<module>\u001b[1;34m\u001b[0m\n\u001b[1;32m----> 1\u001b[1;33m \u001b[0mann_OHE\u001b[0m\u001b[1;33m.\u001b[0m\u001b[0mcompile\u001b[0m\u001b[1;33m(\u001b[0m\u001b[0moptimizer\u001b[0m\u001b[1;33m=\u001b[0m\u001b[1;34m'adam'\u001b[0m\u001b[1;33m,\u001b[0m \u001b[0mloss\u001b[0m\u001b[1;33m=\u001b[0m\u001b[1;34m\"sparse_categorical_crossentropy\"\u001b[0m\u001b[1;33m,\u001b[0m \u001b[0mmetrics\u001b[0m\u001b[1;33m=\u001b[0m\u001b[1;33m[\u001b[0m\u001b[1;34m'accuracy'\u001b[0m\u001b[1;33m]\u001b[0m\u001b[1;33m)\u001b[0m\u001b[1;33m\u001b[0m\u001b[1;33m\u001b[0m\u001b[0m\n\u001b[0m",
      "\u001b[1;31mNameError\u001b[0m: name 'ann_OHE' is not defined"
     ]
    }
   ],
   "source": [
    "ann_OHE.compile(optimizer='adam', loss='SparseCategoricalCrossentropy', metrics=['accuracy'])"
   ]
  },
  {
   "cell_type": "code",
   "execution_count": 162,
   "metadata": {
    "colab": {
     "base_uri": "https://localhost:8080/"
    },
    "executionInfo": {
     "elapsed": 4088,
     "status": "ok",
     "timestamp": 1628100992824,
     "user": {
      "displayName": "Nawaz NM",
      "photoUrl": "https://lh3.googleusercontent.com/a-/AOh14GgewJHtCrvL1OtL24NKc-IuG_YYfVEOazEnrtVtUg=s64",
      "userId": "10329758736889037941"
     },
     "user_tz": -330
    },
    "id": "h3ep-mbKV5F6",
    "outputId": "d49f27aa-0ce3-4961-cf4e-f1074f8b3b77"
   },
   "outputs": [
    {
     "name": "stdout",
     "output_type": "stream",
     "text": [
      "Epoch 1/20\n",
      "88/88 [==============================] - 1s 4ms/step - loss: 1.1567 - accuracy: 0.7789 - val_loss: 0.5218 - val_accuracy: 0.8843\n",
      "Epoch 2/20\n",
      "88/88 [==============================] - 0s 2ms/step - loss: 0.4230 - accuracy: 0.9093 - val_loss: 0.3255 - val_accuracy: 0.9343\n",
      "Epoch 3/20\n",
      "88/88 [==============================] - 0s 2ms/step - loss: 0.3027 - accuracy: 0.9239 - val_loss: 0.2498 - val_accuracy: 0.9500\n",
      "Epoch 4/20\n",
      "88/88 [==============================] - 0s 2ms/step - loss: 0.2440 - accuracy: 0.9339 - val_loss: 0.2110 - val_accuracy: 0.9514\n",
      "Epoch 5/20\n",
      "88/88 [==============================] - 0s 2ms/step - loss: 0.2132 - accuracy: 0.9432 - val_loss: 0.1756 - val_accuracy: 0.9571\n",
      "Epoch 6/20\n",
      "88/88 [==============================] - 0s 2ms/step - loss: 0.1854 - accuracy: 0.9489 - val_loss: 0.1478 - val_accuracy: 0.9643\n",
      "Epoch 7/20\n",
      "88/88 [==============================] - 0s 2ms/step - loss: 0.1662 - accuracy: 0.9564 - val_loss: 0.1321 - val_accuracy: 0.9629\n",
      "Epoch 8/20\n",
      "88/88 [==============================] - 0s 2ms/step - loss: 0.1495 - accuracy: 0.9596 - val_loss: 0.1185 - val_accuracy: 0.9700\n",
      "Epoch 9/20\n",
      "88/88 [==============================] - 0s 2ms/step - loss: 0.1355 - accuracy: 0.9625 - val_loss: 0.1088 - val_accuracy: 0.9771\n",
      "Epoch 10/20\n",
      "88/88 [==============================] - 0s 2ms/step - loss: 0.1247 - accuracy: 0.9650 - val_loss: 0.0999 - val_accuracy: 0.9757\n",
      "Epoch 11/20\n",
      "88/88 [==============================] - 0s 2ms/step - loss: 0.1134 - accuracy: 0.9682 - val_loss: 0.0876 - val_accuracy: 0.9800\n",
      "Epoch 12/20\n",
      "88/88 [==============================] - 0s 2ms/step - loss: 0.1038 - accuracy: 0.9693 - val_loss: 0.0803 - val_accuracy: 0.9829\n",
      "Epoch 13/20\n",
      "88/88 [==============================] - 0s 2ms/step - loss: 0.0979 - accuracy: 0.9707 - val_loss: 0.0729 - val_accuracy: 0.9843\n",
      "Epoch 14/20\n",
      "88/88 [==============================] - 0s 2ms/step - loss: 0.0895 - accuracy: 0.9721 - val_loss: 0.0703 - val_accuracy: 0.9771\n",
      "Epoch 15/20\n",
      "88/88 [==============================] - 0s 2ms/step - loss: 0.0846 - accuracy: 0.9750 - val_loss: 0.0700 - val_accuracy: 0.9814\n",
      "Epoch 16/20\n",
      "88/88 [==============================] - 0s 2ms/step - loss: 0.0808 - accuracy: 0.9754 - val_loss: 0.0597 - val_accuracy: 0.9843\n",
      "Epoch 17/20\n",
      "88/88 [==============================] - 0s 2ms/step - loss: 0.0779 - accuracy: 0.9757 - val_loss: 0.0543 - val_accuracy: 0.9871\n",
      "Epoch 18/20\n",
      "88/88 [==============================] - 0s 2ms/step - loss: 0.0710 - accuracy: 0.9786 - val_loss: 0.0496 - val_accuracy: 0.9857\n",
      "Epoch 19/20\n",
      "88/88 [==============================] - 0s 2ms/step - loss: 0.0715 - accuracy: 0.9775 - val_loss: 0.0495 - val_accuracy: 0.9886\n",
      "Epoch 20/20\n",
      "88/88 [==============================] - 0s 2ms/step - loss: 0.0653 - accuracy: 0.9789 - val_loss: 0.0467 - val_accuracy: 0.9871\n"
     ]
    }
   ],
   "source": [
    "ann = ann_OHE.fit(X_OHE_train, y_OHE_train, validation_data=(X_OHE_test,y_OHE_test), batch_size = 32, epochs = 20)"
   ]
  },
  {
   "cell_type": "code",
   "execution_count": 163,
   "metadata": {
    "colab": {
     "base_uri": "https://localhost:8080/",
     "height": 315
    },
    "executionInfo": {
     "elapsed": 1590,
     "status": "ok",
     "timestamp": 1628100994408,
     "user": {
      "displayName": "Nawaz NM",
      "photoUrl": "https://lh3.googleusercontent.com/a-/AOh14GgewJHtCrvL1OtL24NKc-IuG_YYfVEOazEnrtVtUg=s64",
      "userId": "10329758736889037941"
     },
     "user_tz": -330
    },
    "id": "phmGZsCvmhNr",
    "outputId": "533074b7-e210-4bab-8b03-4525d6f47ff9"
   },
   "outputs": [
    {
     "data": {
      "image/png": "[encoded data removed]",
      "text/plain": [
       "<Figure size 432x288 with 1 Axes>"
      ]
     },
     "metadata": {
      "tags": []
     },
     "output_type": "display_data"
    }
   ],
   "source": [
    "plt.plot(ann.history['accuracy'])\n",
    "plt.plot(ann.history['val_accuracy'])\n",
    "plt.ylabel('Accuracy')\n",
    "plt.xlabel('Epoch')\n",
    "plt.title('Model Accuracy')\n",
    "plt.legend(['train', 'val'], loc='upper left')\n",
    "plt.show()"
   ]
  },
  {
   "cell_type": "code",
   "execution_count": 164,
   "metadata": {
    "colab": {
     "base_uri": "https://localhost:8080/",
     "height": 315
    },
    "executionInfo": {
     "elapsed": 27,
     "status": "ok",
     "timestamp": 1628100994409,
     "user": {
      "displayName": "Nawaz NM",
      "photoUrl": "https://lh3.googleusercontent.com/a-/AOh14GgewJHtCrvL1OtL24NKc-IuG_YYfVEOazEnrtVtUg=s64",
      "userId": "10329758736889037941"
     },
     "user_tz": -330
    },
    "id": "muPClHEo3gQE",
    "outputId": "17ca9d73-0caf-4dcf-d82b-96b0a4675520"
   },
   "outputs": [
    {
     "data": {
      "image/png": "[encoded data removed]",
      "text/plain": [
       "<Figure size 432x288 with 1 Axes>"
      ]
     },
     "metadata": {
      "tags": []
     },
     "output_type": "display_data"
    }
   ],
   "source": [
    "plt.plot(ann.history['loss'])\n",
    "plt.plot(ann.history['val_loss'])\n",
    "\n",
    "plt.ylabel('Loss')\n",
    "plt.xlabel('Epoch')\n",
    "plt.title('Model Loss')\n",
    "plt.legend(['train', 'val'], loc='upper left')\n",
    "plt.show()"
   ]
  },
  {
   "cell_type": "code",
   "execution_count": 165,
   "metadata": {
    "executionInfo": {
     "elapsed": 24,
     "status": "ok",
     "timestamp": 1628100994409,
     "user": {
      "displayName": "Nawaz NM",
      "photoUrl": "https://lh3.googleusercontent.com/a-/AOh14GgewJHtCrvL1OtL24NKc-IuG_YYfVEOazEnrtVtUg=s64",
      "userId": "10329758736889037941"
     },
     "user_tz": -330
    },
    "id": "PCyl6gXUsaM1"
   },
   "outputs": [],
   "source": [
    "y_pred_14 = ann_OHE.predict(X_OHE_test)"
   ]
  },
  {
   "cell_type": "code",
   "execution_count": 166,
   "metadata": {
    "colab": {
     "base_uri": "https://localhost:8080/"
    },
    "executionInfo": {
     "elapsed": 24,
     "status": "ok",
     "timestamp": 1628100994410,
     "user": {
      "displayName": "Nawaz NM",
      "photoUrl": "https://lh3.googleusercontent.com/a-/AOh14GgewJHtCrvL1OtL24NKc-IuG_YYfVEOazEnrtVtUg=s64",
      "userId": "10329758736889037941"
     },
     "user_tz": -330
    },
    "id": "PBKkGgIUsny5",
    "outputId": "3ee0fe75-312a-4853-e20b-e1692a0d3f1e"
   },
   "outputs": [
    {
     "data": {
      "text/plain": [
       "array([[0, 0, 0, ..., 0, 0, 0],\n",
       "       [0, 0, 0, ..., 0, 0, 0],\n",
       "       [0, 0, 0, ..., 1, 0, 0],\n",
       "       ...,\n",
       "       [1, 0, 0, ..., 0, 0, 0],\n",
       "       [0, 0, 0, ..., 0, 0, 0],\n",
       "       [0, 0, 0, ..., 1, 0, 0]])"
      ]
     },
     "execution_count": 166,
     "metadata": {
      "tags": []
     },
     "output_type": "execute_result"
    }
   ],
   "source": [
    "y_pred_14 = (y_pred_14>0.5)\n",
    "y_pred_14 = 1*y_pred_14\n",
    "y_pred_14"
   ]
  },
  {
   "cell_type": "code",
   "execution_count": 167,
   "metadata": {
    "colab": {
     "base_uri": "https://localhost:8080/"
    },
    "executionInfo": {
     "elapsed": 20,
     "status": "ok",
     "timestamp": 1628100994410,
     "user": {
      "displayName": "Nawaz NM",
      "photoUrl": "https://lh3.googleusercontent.com/a-/AOh14GgewJHtCrvL1OtL24NKc-IuG_YYfVEOazEnrtVtUg=s64",
      "userId": "10329758736889037941"
     },
     "user_tz": -330
    },
    "id": "dDiky1x4u0NJ",
    "outputId": "2ef71b6f-7d2c-4a9e-d26e-3965893e85a0"
   },
   "outputs": [
    {
     "data": {
      "text/plain": [
       "numpy.ndarray"
      ]
     },
     "execution_count": 167,
     "metadata": {
      "tags": []
     },
     "output_type": "execute_result"
    }
   ],
   "source": [
    "class_labels = list(y_OHE_test)\n",
    "y_OHE_test = y_OHE_test.to_numpy()\n",
    "type(y_OHE_test)"
   ]
  },
  {
   "cell_type": "code",
   "execution_count": 168,
   "metadata": {
    "executionInfo": {
     "elapsed": 20,
     "status": "ok",
     "timestamp": 1628100994411,
     "user": {
      "displayName": "Nawaz NM",
      "photoUrl": "https://lh3.googleusercontent.com/a-/AOh14GgewJHtCrvL1OtL24NKc-IuG_YYfVEOazEnrtVtUg=s64",
      "userId": "10329758736889037941"
     },
     "user_tz": -330
    },
    "id": "kWLxUq7KwLhA"
   },
   "outputs": [],
   "source": [
    "from sklearn.metrics import confusion_matrix\n",
    "cm = confusion_matrix(y_OHE_test.argmax(axis=1), y_pred_14.argmax(axis=1))"
   ]
  },
  {
   "cell_type": "code",
   "execution_count": 169,
   "metadata": {
    "colab": {
     "base_uri": "https://localhost:8080/"
    },
    "executionInfo": {
     "elapsed": 20,
     "status": "ok",
     "timestamp": 1628100994411,
     "user": {
      "displayName": "Nawaz NM",
      "photoUrl": "https://lh3.googleusercontent.com/a-/AOh14GgewJHtCrvL1OtL24NKc-IuG_YYfVEOazEnrtVtUg=s64",
      "userId": "10329758736889037941"
     },
     "user_tz": -330
    },
    "id": "j-kIjuQsxuHf",
    "outputId": "c51f3c7a-d39b-42e8-891f-ad74b8fb9207"
   },
   "outputs": [
    {
     "data": {
      "text/plain": [
       "array([[65,  0,  0,  0,  0,  0,  1,  0,  0,  0,  0,  0,  0,  0],\n",
       "       [ 0, 46,  0,  0,  0,  0,  0,  0,  0,  0,  0,  0,  0,  0],\n",
       "       [ 0,  0, 42,  0,  0,  0,  0,  0,  0,  0,  0,  0,  0,  0],\n",
       "       [ 0,  0,  0, 50,  0,  0,  0,  0,  0,  0,  0,  0,  0,  0],\n",
       "       [ 0,  0,  0,  0, 39,  0,  0,  0,  0,  0,  0,  0,  0,  0],\n",
       "       [ 0,  0,  0,  0,  0, 49,  0,  0,  0,  0,  0,  0,  0,  0],\n",
       "       [ 0,  0,  0,  0,  0,  0, 50,  0,  0,  0,  0,  0,  0,  0],\n",
       "       [ 1,  0,  0,  0,  0,  0,  0, 52,  0,  0,  0,  0,  0,  0],\n",
       "       [ 0,  0,  0,  0,  0,  0,  3,  0, 47,  0,  0,  0,  0,  0],\n",
       "       [ 0,  0,  0,  0,  0,  0,  1,  0,  0, 39,  0,  0,  0,  0],\n",
       "       [ 0,  0,  0,  0,  0,  0,  0,  0,  0,  0, 59,  0,  0,  0],\n",
       "       [ 0,  0,  0,  0,  0,  0,  0,  0,  0,  0,  0, 58,  0,  0],\n",
       "       [ 0,  0,  0,  0,  0,  0,  0,  0,  0,  0,  0,  0, 43,  0],\n",
       "       [ 2,  0,  0,  0,  0,  0,  2,  0,  0,  0,  0,  0,  0, 51]])"
      ]
     },
     "execution_count": 169,
     "metadata": {
      "tags": []
     },
     "output_type": "execute_result"
    }
   ],
   "source": [
    "cm"
   ]
  },
  {
   "cell_type": "code",
   "execution_count": 170,
   "metadata": {
    "executionInfo": {
     "elapsed": 19,
     "status": "ok",
     "timestamp": 1628100994413,
     "user": {
      "displayName": "Nawaz NM",
      "photoUrl": "https://lh3.googleusercontent.com/a-/AOh14GgewJHtCrvL1OtL24NKc-IuG_YYfVEOazEnrtVtUg=s64",
      "userId": "10329758736889037941"
     },
     "user_tz": -330
    },
    "id": "EO0j_17YywHq"
   },
   "outputs": [],
   "source": [
    "import pandas as pd\n",
    "import seaborn as sn\n",
    "import matplotlib.pyplot as plt\n",
    "import sklearn.metrics"
   ]
  },
  {
   "cell_type": "code",
   "execution_count": 170,
   "metadata": {
    "executionInfo": {
     "elapsed": 16,
     "status": "ok",
     "timestamp": 1628100994414,
     "user": {
      "displayName": "Nawaz NM",
      "photoUrl": "https://lh3.googleusercontent.com/a-/AOh14GgewJHtCrvL1OtL24NKc-IuG_YYfVEOazEnrtVtUg=s64",
      "userId": "10329758736889037941"
     },
     "user_tz": -330
    },
    "id": "rK-pkTeoyCxa"
   },
   "outputs": [],
   "source": []
  },
  {
   "cell_type": "code",
   "execution_count": 171,
   "metadata": {
    "colab": {
     "base_uri": "https://localhost:8080/",
     "height": 751
    },
    "executionInfo": {
     "elapsed": 1383,
     "status": "ok",
     "timestamp": 1628100995781,
     "user": {
      "displayName": "Nawaz NM",
      "photoUrl": "https://lh3.googleusercontent.com/a-/AOh14GgewJHtCrvL1OtL24NKc-IuG_YYfVEOazEnrtVtUg=s64",
      "userId": "10329758736889037941"
     },
     "user_tz": -330
    },
    "id": "eWbK1TCvypjn",
    "outputId": "ce6d6ebc-9216-4fe6-94f3-c11a41ab330c"
   },
   "outputs": [
    {
     "data": {
      "text/plain": [
       "<matplotlib.axes._subplots.AxesSubplot at 0x7fa214016590>"
      ]
     },
     "execution_count": 171,
     "metadata": {
      "tags": []
     },
     "output_type": "execute_result"
    },
    {
     "data": {
      "image/png": "[encoded data removed]",
      "text/plain": [
       "<Figure size 720x504 with 2 Axes>"
      ]
     },
     "metadata": {
      "tags": []
     },
     "output_type": "display_data"
    }
   ],
   "source": [
    "df_cm = pd.DataFrame(cm, columns=class_labels, index = class_labels)\n",
    "df_cm.index.name = 'Actual'\n",
    "df_cm.columns.name = 'Predicted'\n",
    "plt.figure(figsize = (10,7))\n",
    "sn.set(font_scale=1.4)#for label size\n",
    "sn.heatmap(df_cm, cmap=\"Blues\", annot=True,annot_kws={\"size\": 16})# font size"
   ]
  },
  {
   "cell_type": "code",
   "execution_count": 172,
   "metadata": {
    "colab": {
     "base_uri": "https://localhost:8080/"
    },
    "executionInfo": {
     "elapsed": 11,
     "status": "ok",
     "timestamp": 1628100995783,
     "user": {
      "displayName": "Nawaz NM",
      "photoUrl": "https://lh3.googleusercontent.com/a-/AOh14GgewJHtCrvL1OtL24NKc-IuG_YYfVEOazEnrtVtUg=s64",
      "userId": "10329758736889037941"
     },
     "user_tz": -330
    },
    "id": "bdVZO71tR0ix",
    "outputId": "a36ad588-30b3-438e-f86c-24d14aebfb21"
   },
   "outputs": [
    {
     "name": "stdout",
     "output_type": "stream",
     "text": [
      "              precision    recall  f1-score   support\n",
      "\n",
      "           0       0.96      0.98      0.97        66\n",
      "           1       1.00      1.00      1.00        46\n",
      "           2       1.00      1.00      1.00        42\n",
      "           3       1.00      1.00      1.00        50\n",
      "           4       1.00      1.00      1.00        39\n",
      "           5       1.00      1.00      1.00        49\n",
      "           6       0.88      1.00      0.93        50\n",
      "           7       1.00      0.98      0.99        53\n",
      "           8       1.00      0.94      0.97        50\n",
      "           9       1.00      0.97      0.99        40\n",
      "          10       1.00      1.00      1.00        59\n",
      "          11       1.00      1.00      1.00        58\n",
      "          12       1.00      1.00      1.00        43\n",
      "          13       1.00      0.93      0.96        55\n",
      "\n",
      "    accuracy                           0.99       700\n",
      "   macro avg       0.99      0.99      0.99       700\n",
      "weighted avg       0.99      0.99      0.99       700\n",
      "\n"
     ]
    }
   ],
   "source": [
    "from sklearn.metrics import classification_report\n",
    "print(classification_report(y_OHE_test.argmax(axis=1), y_pred_14.argmax(axis=1)))"
   ]
  },
  {
   "cell_type": "markdown",
   "metadata": {
    "id": "Vv2IuaoEpEBK"
   },
   "source": [
    "## Running ANN For 4-Class Problem"
   ]
  },
  {
   "cell_type": "code",
   "execution_count": 173,
   "metadata": {
    "executionInfo": {
     "elapsed": 12,
     "status": "ok",
     "timestamp": 1628100995786,
     "user": {
      "displayName": "Nawaz NM",
      "photoUrl": "https://lh3.googleusercontent.com/a-/AOh14GgewJHtCrvL1OtL24NKc-IuG_YYfVEOazEnrtVtUg=s64",
      "userId": "10329758736889037941"
     },
     "user_tz": -330
    },
    "id": "jTEMOwM7ocTh"
   },
   "outputs": [],
   "source": [
    "ann_OHE_4 = tf.keras.models.Sequential()\n",
    "ann_OHE_4.add(tf.keras.layers.Dense(units = 84, activation = 'relu'))\n",
    "ann_OHE_4.add(tf.keras.layers.Dense(units = 4, activation = 'softmax'))\n",
    "ann_OHE_4.compile(optimizer='adam', loss='categorical_crossentropy', metrics=['accuracy'])"
   ]
  },
  {
   "cell_type": "code",
   "execution_count": 174,
   "metadata": {
    "colab": {
     "base_uri": "https://localhost:8080/"
    },
    "executionInfo": {
     "elapsed": 4583,
     "status": "ok",
     "timestamp": 1628101000358,
     "user": {
      "displayName": "Nawaz NM",
      "photoUrl": "https://lh3.googleusercontent.com/a-/AOh14GgewJHtCrvL1OtL24NKc-IuG_YYfVEOazEnrtVtUg=s64",
      "userId": "10329758736889037941"
     },
     "user_tz": -330
    },
    "id": "Xth7qssLocQq",
    "outputId": "43742dea-e8b3-4000-b89c-1e7eef93df41"
   },
   "outputs": [
    {
     "name": "stdout",
     "output_type": "stream",
     "text": [
      "Epoch 1/20\n",
      "88/88 [==============================] - 1s 4ms/step - loss: 0.5124 - accuracy: 0.8064 - val_loss: 0.2551 - val_accuracy: 0.9043\n",
      "Epoch 2/20\n",
      "88/88 [==============================] - 0s 2ms/step - loss: 0.2228 - accuracy: 0.9125 - val_loss: 0.1840 - val_accuracy: 0.9114\n",
      "Epoch 3/20\n",
      "88/88 [==============================] - 0s 2ms/step - loss: 0.1755 - accuracy: 0.9364 - val_loss: 0.1480 - val_accuracy: 0.9829\n",
      "Epoch 4/20\n",
      "88/88 [==============================] - 0s 2ms/step - loss: 0.1512 - accuracy: 0.9493 - val_loss: 0.1272 - val_accuracy: 0.9800\n",
      "Epoch 5/20\n",
      "88/88 [==============================] - 0s 2ms/step - loss: 0.1291 - accuracy: 0.9646 - val_loss: 0.1094 - val_accuracy: 0.9757\n",
      "Epoch 6/20\n",
      "88/88 [==============================] - 0s 2ms/step - loss: 0.1169 - accuracy: 0.9675 - val_loss: 0.0959 - val_accuracy: 0.9800\n",
      "Epoch 7/20\n",
      "88/88 [==============================] - 0s 2ms/step - loss: 0.1045 - accuracy: 0.9686 - val_loss: 0.0906 - val_accuracy: 0.9900\n",
      "Epoch 8/20\n",
      "88/88 [==============================] - 0s 2ms/step - loss: 0.0956 - accuracy: 0.9750 - val_loss: 0.0889 - val_accuracy: 0.9957\n",
      "Epoch 9/20\n",
      "88/88 [==============================] - 0s 2ms/step - loss: 0.0860 - accuracy: 0.9789 - val_loss: 0.0707 - val_accuracy: 0.9914\n",
      "Epoch 10/20\n",
      "88/88 [==============================] - 0s 2ms/step - loss: 0.0782 - accuracy: 0.9796 - val_loss: 0.0605 - val_accuracy: 0.9857\n",
      "Epoch 11/20\n",
      "88/88 [==============================] - 0s 2ms/step - loss: 0.0706 - accuracy: 0.9789 - val_loss: 0.0593 - val_accuracy: 0.9943\n",
      "Epoch 12/20\n",
      "88/88 [==============================] - 0s 2ms/step - loss: 0.0680 - accuracy: 0.9807 - val_loss: 0.0510 - val_accuracy: 0.9843\n",
      "Epoch 13/20\n",
      "88/88 [==============================] - 0s 2ms/step - loss: 0.0622 - accuracy: 0.9811 - val_loss: 0.0504 - val_accuracy: 0.9943\n",
      "Epoch 14/20\n",
      "88/88 [==============================] - 0s 2ms/step - loss: 0.0578 - accuracy: 0.9846 - val_loss: 0.0426 - val_accuracy: 0.9943\n",
      "Epoch 15/20\n",
      "88/88 [==============================] - 0s 2ms/step - loss: 0.0520 - accuracy: 0.9843 - val_loss: 0.0417 - val_accuracy: 0.9943\n",
      "Epoch 16/20\n",
      "88/88 [==============================] - 0s 2ms/step - loss: 0.0510 - accuracy: 0.9846 - val_loss: 0.0353 - val_accuracy: 0.9943\n",
      "Epoch 17/20\n",
      "88/88 [==============================] - 0s 2ms/step - loss: 0.0467 - accuracy: 0.9882 - val_loss: 0.0325 - val_accuracy: 0.9943\n",
      "Epoch 18/20\n",
      "88/88 [==============================] - 0s 2ms/step - loss: 0.0434 - accuracy: 0.9875 - val_loss: 0.0320 - val_accuracy: 0.9914\n",
      "Epoch 19/20\n",
      "88/88 [==============================] - 0s 2ms/step - loss: 0.0426 - accuracy: 0.9889 - val_loss: 0.0297 - val_accuracy: 0.9957\n",
      "Epoch 20/20\n",
      "88/88 [==============================] - 0s 2ms/step - loss: 0.0402 - accuracy: 0.9893 - val_loss: 0.0334 - val_accuracy: 0.9900\n"
     ]
    }
   ],
   "source": [
    "ann2 = ann_OHE_4.fit(X_OHE_4_train, y_OHE_4_train, validation_data=(X_OHE_4_test,y_OHE_4_test), batch_size = 32, epochs = 20)"
   ]
  },
  {
   "cell_type": "code",
   "execution_count": 175,
   "metadata": {
    "colab": {
     "base_uri": "https://localhost:8080/",
     "height": 315
    },
    "executionInfo": {
     "elapsed": 8,
     "status": "ok",
     "timestamp": 1628101000360,
     "user": {
      "displayName": "Nawaz NM",
      "photoUrl": "https://lh3.googleusercontent.com/a-/AOh14GgewJHtCrvL1OtL24NKc-IuG_YYfVEOazEnrtVtUg=s64",
      "userId": "10329758736889037941"
     },
     "user_tz": -330
    },
    "id": "Mnk5r-OdocJV",
    "outputId": "5b40f2af-13f5-4a04-cd1e-442c2c359230"
   },
   "outputs": [
    {
     "data": {
      "image/png": "[encoded data removed]",
      "text/plain": [
       "<Figure size 432x288 with 1 Axes>"
      ]
     },
     "metadata": {
      "tags": []
     },
     "output_type": "display_data"
    }
   ],
   "source": [
    "plt.plot(ann2.history['accuracy'])\n",
    "plt.plot(ann2.history['val_accuracy'])\n",
    "plt.ylabel('Accuracy')\n",
    "plt.xlabel('Epoch')\n",
    "plt.title('Model Accuracy')\n",
    "plt.legend(['train', 'val'], loc='upper left')\n",
    "plt.show()"
   ]
  },
  {
   "cell_type": "code",
   "execution_count": 176,
   "metadata": {
    "colab": {
     "base_uri": "https://localhost:8080/",
     "height": 315
    },
    "executionInfo": {
     "elapsed": 1202,
     "status": "ok",
     "timestamp": 1628101001555,
     "user": {
      "displayName": "Nawaz NM",
      "photoUrl": "https://lh3.googleusercontent.com/a-/AOh14GgewJHtCrvL1OtL24NKc-IuG_YYfVEOazEnrtVtUg=s64",
      "userId": "10329758736889037941"
     },
     "user_tz": -330
    },
    "id": "bWgW4-T2ocFt",
    "outputId": "3cee0b72-c488-4c1e-e554-85980b7de48e"
   },
   "outputs": [
    {
     "data": {
      "image/png": "[encoded data removed]",
      "text/plain": [
       "<Figure size 432x288 with 1 Axes>"
      ]
     },
     "metadata": {
      "tags": []
     },
     "output_type": "display_data"
    }
   ],
   "source": [
    "plt.plot(ann2.history['loss'])\n",
    "plt.plot(ann2.history['val_loss'])\n",
    "\n",
    "plt.ylabel('Loss')\n",
    "plt.xlabel('Epoch')\n",
    "plt.title('Model Loss')\n",
    "plt.legend(['train', 'val'], loc='upper left')\n",
    "plt.show()"
   ]
  },
  {
   "cell_type": "code",
   "execution_count": 177,
   "metadata": {
    "executionInfo": {
     "elapsed": 31,
     "status": "ok",
     "timestamp": 1628101001557,
     "user": {
      "displayName": "Nawaz NM",
      "photoUrl": "https://lh3.googleusercontent.com/a-/AOh14GgewJHtCrvL1OtL24NKc-IuG_YYfVEOazEnrtVtUg=s64",
      "userId": "10329758736889037941"
     },
     "user_tz": -330
    },
    "id": "uVoeGRKo3cLk"
   },
   "outputs": [],
   "source": [
    "class_labels = list(y_OHE_4_test)"
   ]
  },
  {
   "cell_type": "code",
   "execution_count": 178,
   "metadata": {
    "executionInfo": {
     "elapsed": 31,
     "status": "ok",
     "timestamp": 1628101001559,
     "user": {
      "displayName": "Nawaz NM",
      "photoUrl": "https://lh3.googleusercontent.com/a-/AOh14GgewJHtCrvL1OtL24NKc-IuG_YYfVEOazEnrtVtUg=s64",
      "userId": "10329758736889037941"
     },
     "user_tz": -330
    },
    "id": "mBCkcWQq2xvJ"
   },
   "outputs": [],
   "source": [
    "y_pred_4 = ann_OHE_4.predict(X_OHE_4_test)"
   ]
  },
  {
   "cell_type": "code",
   "execution_count": 179,
   "metadata": {
    "colab": {
     "base_uri": "https://localhost:8080/"
    },
    "executionInfo": {
     "elapsed": 32,
     "status": "ok",
     "timestamp": 1628101001561,
     "user": {
      "displayName": "Nawaz NM",
      "photoUrl": "https://lh3.googleusercontent.com/a-/AOh14GgewJHtCrvL1OtL24NKc-IuG_YYfVEOazEnrtVtUg=s64",
      "userId": "10329758736889037941"
     },
     "user_tz": -330
    },
    "id": "Diaw-cRX2xsC",
    "outputId": "eadf573c-5c60-4b91-ca09-4bb16387ceec"
   },
   "outputs": [
    {
     "data": {
      "text/plain": [
       "numpy.ndarray"
      ]
     },
     "execution_count": 179,
     "metadata": {
      "tags": []
     },
     "output_type": "execute_result"
    }
   ],
   "source": [
    "y_pred_4 = (y_pred_4>0.5)\n",
    "y_pred_4 = 1*y_pred_4\n",
    "type(y_pred_4)"
   ]
  },
  {
   "cell_type": "code",
   "execution_count": 180,
   "metadata": {
    "colab": {
     "base_uri": "https://localhost:8080/"
    },
    "executionInfo": {
     "elapsed": 31,
     "status": "ok",
     "timestamp": 1628101001565,
     "user": {
      "displayName": "Nawaz NM",
      "photoUrl": "https://lh3.googleusercontent.com/a-/AOh14GgewJHtCrvL1OtL24NKc-IuG_YYfVEOazEnrtVtUg=s64",
      "userId": "10329758736889037941"
     },
     "user_tz": -330
    },
    "id": "OTQn2vKv2xqO",
    "outputId": "e599ec45-b005-4809-8b32-7567fb14c2a7"
   },
   "outputs": [
    {
     "data": {
      "text/plain": [
       "numpy.ndarray"
      ]
     },
     "execution_count": 180,
     "metadata": {
      "tags": []
     },
     "output_type": "execute_result"
    }
   ],
   "source": [
    "y_OHE_4_test = y_OHE_4_test.to_numpy()\n",
    "type(y_OHE_4_test)"
   ]
  },
  {
   "cell_type": "code",
   "execution_count": 181,
   "metadata": {
    "executionInfo": {
     "elapsed": 29,
     "status": "ok",
     "timestamp": 1628101001566,
     "user": {
      "displayName": "Nawaz NM",
      "photoUrl": "https://lh3.googleusercontent.com/a-/AOh14GgewJHtCrvL1OtL24NKc-IuG_YYfVEOazEnrtVtUg=s64",
      "userId": "10329758736889037941"
     },
     "user_tz": -330
    },
    "id": "RxdBGTbE3pEl"
   },
   "outputs": [],
   "source": [
    "from sklearn.metrics import confusion_matrix\n",
    "cm = confusion_matrix(y_OHE_4_test.argmax(axis=1), y_pred_4.argmax(axis=1))"
   ]
  },
  {
   "cell_type": "code",
   "execution_count": 182,
   "metadata": {
    "colab": {
     "base_uri": "https://localhost:8080/"
    },
    "executionInfo": {
     "elapsed": 29,
     "status": "ok",
     "timestamp": 1628101001566,
     "user": {
      "displayName": "Nawaz NM",
      "photoUrl": "https://lh3.googleusercontent.com/a-/AOh14GgewJHtCrvL1OtL24NKc-IuG_YYfVEOazEnrtVtUg=s64",
      "userId": "10329758736889037941"
     },
     "user_tz": -330
    },
    "id": "DCU89oTE4du_",
    "outputId": "2398effe-a0e1-4f91-8db7-b0ab0181a9fc"
   },
   "outputs": [
    {
     "data": {
      "text/plain": [
       "array([[291,   1,   0,   0],\n",
       "       [  0,  50,   0,   0],\n",
       "       [  0,   0,  53,   0],\n",
       "       [  0,   5,   0, 300]])"
      ]
     },
     "execution_count": 182,
     "metadata": {
      "tags": []
     },
     "output_type": "execute_result"
    }
   ],
   "source": [
    "cm"
   ]
  },
  {
   "cell_type": "code",
   "execution_count": 183,
   "metadata": {
    "colab": {
     "base_uri": "https://localhost:8080/",
     "height": 863
    },
    "executionInfo": {
     "elapsed": 899,
     "status": "ok",
     "timestamp": 1628101002439,
     "user": {
      "displayName": "Nawaz NM",
      "photoUrl": "https://lh3.googleusercontent.com/a-/AOh14GgewJHtCrvL1OtL24NKc-IuG_YYfVEOazEnrtVtUg=s64",
      "userId": "10329758736889037941"
     },
     "user_tz": -330
    },
    "id": "Ps8U6xi_2xlL",
    "outputId": "e62fe955-dcd5-4643-d4ce-5d9cbfbaa6ba"
   },
   "outputs": [
    {
     "data": {
      "text/plain": [
       "<matplotlib.axes._subplots.AxesSubplot at 0x7fa228e909d0>"
      ]
     },
     "execution_count": 183,
     "metadata": {
      "tags": []
     },
     "output_type": "execute_result"
    },
    {
     "data": {
      "image/png": "[encoded data removed]",
      "text/plain": [
       "<Figure size 720x504 with 2 Axes>"
      ]
     },
     "metadata": {
      "tags": []
     },
     "output_type": "display_data"
    }
   ],
   "source": [
    "df_cm = pd.DataFrame(cm, columns=class_labels, index = class_labels)\n",
    "df_cm.index.name = 'Actual'\n",
    "df_cm.columns.name = 'Predicted'\n",
    "plt.figure(figsize = (10,7))\n",
    "sn.set(font_scale=1.4)#for label size\n",
    "sn.heatmap(df_cm, cmap=\"Blues\", annot=True,annot_kws={\"size\": 16})# font size"
   ]
  },
  {
   "cell_type": "code",
   "execution_count": 184,
   "metadata": {
    "colab": {
     "base_uri": "https://localhost:8080/"
    },
    "executionInfo": {
     "elapsed": 20,
     "status": "ok",
     "timestamp": 1628101002441,
     "user": {
      "displayName": "Nawaz NM",
      "photoUrl": "https://lh3.googleusercontent.com/a-/AOh14GgewJHtCrvL1OtL24NKc-IuG_YYfVEOazEnrtVtUg=s64",
      "userId": "10329758736889037941"
     },
     "user_tz": -330
    },
    "id": "HMITL8aeRsfj",
    "outputId": "3fe4ce98-9a02-4ea8-fb27-1abad342210c"
   },
   "outputs": [
    {
     "name": "stdout",
     "output_type": "stream",
     "text": [
      "              precision    recall  f1-score   support\n",
      "\n",
      "           0       1.00      1.00      1.00       292\n",
      "           1       0.89      1.00      0.94        50\n",
      "           2       1.00      1.00      1.00        53\n",
      "           3       1.00      0.98      0.99       305\n",
      "\n",
      "    accuracy                           0.99       700\n",
      "   macro avg       0.97      1.00      0.98       700\n",
      "weighted avg       0.99      0.99      0.99       700\n",
      "\n"
     ]
    }
   ],
   "source": [
    "from sklearn.metrics import classification_report\n",
    "print(classification_report(y_OHE_4_test.argmax(axis=1), y_pred_4.argmax(axis=1)))"
   ]
  },
  {
   "cell_type": "markdown",
   "metadata": {
    "id": "4ZSscOtYQTpO"
   },
   "source": [
    "## **5-Fold Cross Validation - 14 Class**\n"
   ]
  },
  {
   "cell_type": "markdown",
   "metadata": {
    "id": "oEAKwEh5mFEM"
   },
   "source": [
    "## **14 Classes**\n",
    "1. Normal\n",
    "2. Pressure Reduction in Intake Manifold\n",
    "3. Compression Ratio Reduction - C1\n",
    "4. Compression Ratio Reduction - C2\n",
    "5. Compression Ratio Reduction - C3\n",
    "6. Compression Ratio Reduction - C4\n",
    "7. Compression Ratio Reduction - C5\n",
    "8. Compression Ratio Reduction - C6\n",
    "9. Reduction In Fuel Injected - C1\n",
    "10. Reduction In Fuel Injected - C2\n",
    "11. Reduction In Fuel Injected - C3\n",
    "12. Reduction In Fuel Injected - C4\n",
    "13. Reduction In Fuel Injected - C5\n",
    "14. Reduction In Fuel Injected - C6\n"
   ]
  },
  {
   "cell_type": "code",
   "execution_count": 185,
   "metadata": {
    "colab": {
     "base_uri": "https://localhost:8080/"
    },
    "executionInfo": {
     "elapsed": 6203,
     "status": "ok",
     "timestamp": 1628101008634,
     "user": {
      "displayName": "Nawaz NM",
      "photoUrl": "https://lh3.googleusercontent.com/a-/AOh14GgewJHtCrvL1OtL24NKc-IuG_YYfVEOazEnrtVtUg=s64",
      "userId": "10329758736889037941"
     },
     "user_tz": -330
    },
    "id": "Sc5T9cwdPDZG",
    "outputId": "542ca4f7-ffcc-48d8-a4ae-6f3383dd782b"
   },
   "outputs": [
    {
     "name": "stdout",
     "output_type": "stream",
     "text": [
      "140/140 [==============================] - 1s 1ms/step - loss: 1.7336 - accuracy: 0.5433\n",
      "35/35 [==============================] - 0s 1ms/step - loss: 0.4775 - accuracy: 0.8911\n",
      "140/140 [==============================] - 1s 1ms/step - loss: 1.4252 - accuracy: 0.6290\n",
      "35/35 [==============================] - 0s 1ms/step - loss: 0.5106 - accuracy: 0.8643\n",
      "140/140 [==============================] - 1s 1ms/step - loss: 1.7156 - accuracy: 0.5411\n",
      "35/35 [==============================] - 0s 949us/step - loss: 0.4619 - accuracy: 0.9214\n",
      "140/140 [==============================] - 1s 1ms/step - loss: 1.5597 - accuracy: 0.5957\n",
      "35/35 [==============================] - 1s 985us/step - loss: 0.4078 - accuracy: 0.9196\n",
      "140/140 [==============================] - 1s 1ms/step - loss: 1.6553 - accuracy: 0.5586\n",
      "35/35 [==============================] - 0s 1ms/step - loss: 0.4279 - accuracy: 0.9125\n"
     ]
    }
   ],
   "source": [
    "from keras.wrappers.scikit_learn import KerasClassifier\n",
    "from sklearn.model_selection import cross_val_score\n",
    "from keras.models import Sequential\n",
    "from keras.layers import Dense\n",
    "\n",
    "def build_classifier():\n",
    "\tclassifier = Sequential()\n",
    "\t\n",
    "\tclassifier.add(Dense(\n",
    "\t\tunits = 84,\n",
    "\t\tactivation=\"relu\"\n",
    "\t\t))\n",
    "\t\n",
    "\tclassifier.add(Dense(\n",
    "\t\tunits = 14,\n",
    "\t\tactivation=\"softmax\"\n",
    "\t\t))\n",
    "\t\n",
    "\t\n",
    "\tclassifier.compile(\n",
    "\t\toptimizer = \"adam\",\n",
    "\t\tloss=\"categorical_crossentropy\",\n",
    "\t\tmetrics=['accuracy']\n",
    "\t\t)\n",
    "\t\n",
    "\treturn classifier\n",
    "\n",
    "#this classifier will be use to the 10 different training fold \n",
    "#for k-cross validation on 1 test fold\n",
    "classifier = KerasClassifier(build_fn = build_classifier,\n",
    "\t\t\t\t\t\t\t batch_size = 16,\n",
    "\t\t\t\t\t\t\t nb_epoch = 20)\n",
    "\n",
    "accuracies = cross_val_score(\n",
    "\t\testimator=classifier,\n",
    "\t\tX = X_OHE_train,\n",
    "\t\ty = y_OHE_train,\n",
    "\t\tcv=5\n",
    "\t\t)\n",
    "#the important variable is cv which mean the number of\n",
    "#fold in cross validation that we will use\n",
    "\n",
    "#after we got the accuracies, find the mean\n",
    "mean = accuracies.mean()\n",
    "variance = accuracies.std()"
   ]
  },
  {
   "cell_type": "code",
   "execution_count": 186,
   "metadata": {
    "colab": {
     "base_uri": "https://localhost:8080/"
    },
    "executionInfo": {
     "elapsed": 17,
     "status": "ok",
     "timestamp": 1628101008635,
     "user": {
      "displayName": "Nawaz NM",
      "photoUrl": "https://lh3.googleusercontent.com/a-/AOh14GgewJHtCrvL1OtL24NKc-IuG_YYfVEOazEnrtVtUg=s64",
      "userId": "10329758736889037941"
     },
     "user_tz": -330
    },
    "id": "7sicHYZGRt53",
    "outputId": "b5991428-0b2b-49bd-a094-f64495a4a10a"
   },
   "outputs": [
    {
     "data": {
      "text/plain": [
       "0.9017857193946839"
      ]
     },
     "execution_count": 186,
     "metadata": {
      "tags": []
     },
     "output_type": "execute_result"
    }
   ],
   "source": [
    "mean "
   ]
  },
  {
   "cell_type": "code",
   "execution_count": 187,
   "metadata": {
    "colab": {
     "base_uri": "https://localhost:8080/"
    },
    "executionInfo": {
     "elapsed": 13,
     "status": "ok",
     "timestamp": 1628101008636,
     "user": {
      "displayName": "Nawaz NM",
      "photoUrl": "https://lh3.googleusercontent.com/a-/AOh14GgewJHtCrvL1OtL24NKc-IuG_YYfVEOazEnrtVtUg=s64",
      "userId": "10329758736889037941"
     },
     "user_tz": -330
    },
    "id": "Bjgj7RjZS6wC",
    "outputId": "454c2af5-a622-4c44-dd3d-375465908d7c"
   },
   "outputs": [
    {
     "data": {
      "text/plain": [
       "0.021635905019272608"
      ]
     },
     "execution_count": 187,
     "metadata": {
      "tags": []
     },
     "output_type": "execute_result"
    }
   ],
   "source": [
    "variance"
   ]
  },
  {
   "cell_type": "code",
   "execution_count": 188,
   "metadata": {
    "colab": {
     "base_uri": "https://localhost:8080/"
    },
    "executionInfo": {
     "elapsed": 11,
     "status": "ok",
     "timestamp": 1628101008637,
     "user": {
      "displayName": "Nawaz NM",
      "photoUrl": "https://lh3.googleusercontent.com/a-/AOh14GgewJHtCrvL1OtL24NKc-IuG_YYfVEOazEnrtVtUg=s64",
      "userId": "10329758736889037941"
     },
     "user_tz": -330
    },
    "id": "eBCGGQeoS9tU",
    "outputId": "04cb8c03-8bfe-46fc-8834-1f691703e98d"
   },
   "outputs": [
    {
     "data": {
      "text/plain": [
       "0.14709148520316398"
      ]
     },
     "execution_count": 188,
     "metadata": {
      "tags": []
     },
     "output_type": "execute_result"
    }
   ],
   "source": [
    "std = np.sqrt(variance)\n",
    "std"
   ]
  },
  {
   "cell_type": "markdown",
   "metadata": {
    "id": "ooqBLcZPpPJC"
   },
   "source": [
    "## 5 Fold CV - 4 Class Problem"
   ]
  },
  {
   "cell_type": "markdown",
   "metadata": {
    "id": "7rMBjZ2XpXwT"
   },
   "source": [
    "### 4 - Classes :\n",
    "1. Normal \n",
    "2. Pressure Reduction in Intake Manifold\n",
    "3. Compression Ratio Reduction \n",
    "4. Pressure Ratio Reduction"
   ]
  },
  {
   "cell_type": "code",
   "execution_count": 189,
   "metadata": {
    "colab": {
     "base_uri": "https://localhost:8080/"
    },
    "executionInfo": {
     "elapsed": 6152,
     "status": "ok",
     "timestamp": 1628101015388,
     "user": {
      "displayName": "Nawaz NM",
      "photoUrl": "https://lh3.googleusercontent.com/a-/AOh14GgewJHtCrvL1OtL24NKc-IuG_YYfVEOazEnrtVtUg=s64",
      "userId": "10329758736889037941"
     },
     "user_tz": -330
    },
    "id": "TOoYeX_mjuY1",
    "outputId": "d8dcdb2b-8049-4213-8faa-abc3a4325ebb"
   },
   "outputs": [
    {
     "name": "stdout",
     "output_type": "stream",
     "text": [
      "70/70 [==============================] - 1s 1ms/step - loss: 0.7471 - accuracy: 0.7307\n",
      "18/18 [==============================] - 0s 1ms/step - loss: 0.2909 - accuracy: 0.8875\n",
      "70/70 [==============================] - 1s 1ms/step - loss: 0.8558 - accuracy: 0.6630\n",
      "18/18 [==============================] - 0s 2ms/step - loss: 0.3503 - accuracy: 0.8804\n",
      "70/70 [==============================] - 1s 1ms/step - loss: 0.9441 - accuracy: 0.6793\n",
      "18/18 [==============================] - 0s 1ms/step - loss: 0.3246 - accuracy: 0.8768\n",
      "70/70 [==============================] - 1s 1ms/step - loss: 0.8663 - accuracy: 0.6014\n",
      "18/18 [==============================] - 0s 1ms/step - loss: 0.2746 - accuracy: 0.9161\n",
      "70/70 [==============================] - 1s 1ms/step - loss: 0.8648 - accuracy: 0.6231\n",
      "18/18 [==============================] - 0s 1ms/step - loss: 0.2851 - accuracy: 0.9000\n"
     ]
    }
   ],
   "source": [
    "from keras.wrappers.scikit_learn import KerasClassifier\n",
    "from sklearn.model_selection import cross_val_score\n",
    "from keras.models import Sequential\n",
    "from keras.layers import Dense\n",
    "\n",
    "def build_classifier():\n",
    "\tclassifier = Sequential()\n",
    "\t\n",
    "\tclassifier.add(Dense(\n",
    "\t\tunits = 84,\n",
    "\t\tactivation=\"relu\"\n",
    "\t\t))\n",
    "\t\n",
    "\tclassifier.add(Dense(\n",
    "\t\tunits = 4,\n",
    "\t\tactivation=\"softmax\"\n",
    "\t\t))\n",
    "\t\n",
    "\t\n",
    "\tclassifier.compile(\n",
    "\t\toptimizer = \"adam\",\n",
    "\t\tloss=\"categorical_crossentropy\",\n",
    "\t\tmetrics=['accuracy']\n",
    "\t\t)\n",
    "\t\n",
    "\treturn classifier\n",
    "\n",
    "#this classifier will be use to the 10 different training fold \n",
    "#for k-cross validation on 1 test fold\n",
    "classifier = KerasClassifier(build_fn = build_classifier,\n",
    "\t\t\t\t\t\t\t batch_size = 32,\n",
    "\t\t\t\t\t\t\t nb_epoch = 20)\n",
    "\n",
    "accuracies = cross_val_score(\n",
    "\t\testimator=classifier,\n",
    "\t\tX = X_OHE_4_train,\n",
    "\t\ty = y_OHE_4_train,\n",
    "\t\tcv=5\n",
    "\t\t)\n",
    "#the important variable is cv which mean the number of\n",
    "#fold in cross validation that we will use\n",
    "\n",
    "#after we got the accuracies, find the mean\n",
    "mean = accuracies.mean()\n",
    "variance = accuracies.std()"
   ]
  },
  {
   "cell_type": "code",
   "execution_count": 190,
   "metadata": {
    "colab": {
     "base_uri": "https://localhost:8080/"
    },
    "executionInfo": {
     "elapsed": 13,
     "status": "ok",
     "timestamp": 1628101015388,
     "user": {
      "displayName": "Nawaz NM",
      "photoUrl": "https://lh3.googleusercontent.com/a-/AOh14GgewJHtCrvL1OtL24NKc-IuG_YYfVEOazEnrtVtUg=s64",
      "userId": "10329758736889037941"
     },
     "user_tz": -330
    },
    "id": "IuVrBE9CqEJv",
    "outputId": "be3d480d-f123-4c2d-d32e-fc558f07d494"
   },
   "outputs": [
    {
     "data": {
      "text/plain": [
       "0.8921428442001342"
      ]
     },
     "execution_count": 190,
     "metadata": {
      "tags": []
     },
     "output_type": "execute_result"
    }
   ],
   "source": [
    "mean"
   ]
  },
  {
   "cell_type": "code",
   "execution_count": 191,
   "metadata": {
    "colab": {
     "base_uri": "https://localhost:8080/"
    },
    "executionInfo": {
     "elapsed": 11,
     "status": "ok",
     "timestamp": 1628101015389,
     "user": {
      "displayName": "Nawaz NM",
      "photoUrl": "https://lh3.googleusercontent.com/a-/AOh14GgewJHtCrvL1OtL24NKc-IuG_YYfVEOazEnrtVtUg=s64",
      "userId": "10329758736889037941"
     },
     "user_tz": -330
    },
    "id": "mY1IXIV6qEG1",
    "outputId": "5a82cab6-c1df-4267-f757-0b65b207bc2e"
   },
   "outputs": [
    {
     "data": {
      "text/plain": [
       "0.014356962241481329"
      ]
     },
     "execution_count": 191,
     "metadata": {
      "tags": []
     },
     "output_type": "execute_result"
    }
   ],
   "source": [
    "variance"
   ]
  },
  {
   "cell_type": "code",
   "execution_count": 192,
   "metadata": {
    "colab": {
     "base_uri": "https://localhost:8080/"
    },
    "executionInfo": {
     "elapsed": 11,
     "status": "ok",
     "timestamp": 1628101015390,
     "user": {
      "displayName": "Nawaz NM",
      "photoUrl": "https://lh3.googleusercontent.com/a-/AOh14GgewJHtCrvL1OtL24NKc-IuG_YYfVEOazEnrtVtUg=s64",
      "userId": "10329758736889037941"
     },
     "user_tz": -330
    },
    "id": "E_yFmCGypjrw",
    "outputId": "f5ca2401-90c7-4425-9ad0-7054f1ff8d9e"
   },
   "outputs": [
    {
     "data": {
      "text/plain": [
       "0.11982054181767553"
      ]
     },
     "execution_count": 192,
     "metadata": {
      "tags": []
     },
     "output_type": "execute_result"
    }
   ],
   "source": [
    "std = np.sqrt(variance)\n",
    "std"
   ]
  },
  {
   "cell_type": "code",
   "execution_count": null,
   "metadata": {
    "id": "XoKB7g-_Yao9"
   },
   "outputs": [],
   "source": []
  }
 ],
 "metadata": {
  "colab": {
   "authorship_tag": "ABX9TyM7dZhirCXNwOSJvlSkO/0C",
   "collapsed_sections": [],
   "name": "DE2500_ANN.ipynb",
   "provenance": []
  },
  "kernelspec": {
   "display_name": "Python 3",
   "language": "python",
   "name": "python3"
  },
  "language_info": {
   "codemirror_mode": {
    "name": "ipython",
    "version": 3
   },
   "file_extension": ".py",
   "mimetype": "text/x-python",
   "name": "python",
   "nbconvert_exporter": "python",
   "pygments_lexer": "ipython3",
   "version": "3.8.8"
  }
 },
 "nbformat": 4,
 "nbformat_minor": 1
}
