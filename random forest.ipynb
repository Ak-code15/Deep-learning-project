{
 "cells": [
  {
   "cell_type": "code",
   "execution_count": 1,
   "id": "099a9cec",
   "metadata": {},
   "outputs": [],
   "source": [
    "import numpy as np\n",
    "import pandas as pd\n",
    "from sklearn.model_selection import GridSearchCV"
   ]
  },
  {
   "cell_type": "code",
   "execution_count": 2,
   "id": "d7947c36",
   "metadata": {},
   "outputs": [
    {
     "data": {
      "text/plain": [
       "(3500, 99)"
      ]
     },
     "execution_count": 2,
     "metadata": {},
     "output_type": "execute_result"
    }
   ],
   "source": [
    "df=pd.read_excel('Features_2500RPM_15dB.xlsx')\n",
    "df.shape"
   ]
  },
  {
   "cell_type": "code",
   "execution_count": 3,
   "id": "a7f0b360",
   "metadata": {},
   "outputs": [
    {
     "name": "stdout",
     "output_type": "stream",
     "text": [
      "<class 'pandas.core.frame.DataFrame'>\n",
      "RangeIndex: 3500 entries, 0 to 3499\n",
      "Data columns (total 99 columns):\n",
      " #   Column      Non-Null Count  Dtype  \n",
      "---  ------      --------------  -----  \n",
      " 0   Mp_1        3500 non-null   float64\n",
      " 1   Mp_2        3500 non-null   float64\n",
      " 2   Mp_3        3500 non-null   float64\n",
      " 3   Mp_4        3500 non-null   float64\n",
      " 4   Mp_5        3500 non-null   float64\n",
      " 5   Mp_6        3500 non-null   float64\n",
      " 6   mu_1        3500 non-null   float64\n",
      " 7   mu_2        3500 non-null   float64\n",
      " 8   mu_3        3500 non-null   float64\n",
      " 9   mu_4        3500 non-null   float64\n",
      " 10  mu_5        3500 non-null   float64\n",
      " 11  mu_6        3500 non-null   float64\n",
      " 12  F_k1        3500 non-null   int64  \n",
      " 13  F_k2        3500 non-null   float64\n",
      " 14  F_k3        3500 non-null   float64\n",
      " 15  F_k4        3500 non-null   float64\n",
      " 16  F_k5        3500 non-null   float64\n",
      " 17  F_k6        3500 non-null   float64\n",
      " 18  F_k7        3500 non-null   float64\n",
      " 19  F_k8        3500 non-null   float64\n",
      " 20  F_k9        3500 non-null   float64\n",
      " 21  F_k10       3500 non-null   float64\n",
      " 22  F_k11       3500 non-null   float64\n",
      " 23  F_k12       3500 non-null   float64\n",
      " 24  F_k13       3500 non-null   float64\n",
      " 25  F_k14       3500 non-null   float64\n",
      " 26  F_k15       3500 non-null   float64\n",
      " 27  F_k16       3500 non-null   float64\n",
      " 28  F_k17       3500 non-null   float64\n",
      " 29  F_k18       3500 non-null   float64\n",
      " 30  F_k19       3500 non-null   float64\n",
      " 31  F_k20       3500 non-null   float64\n",
      " 32  F_k21       3500 non-null   float64\n",
      " 33  F_k22       3500 non-null   float64\n",
      " 34  F_k23       3500 non-null   float64\n",
      " 35  F_k24       3500 non-null   int64  \n",
      " 36  A_k1        3500 non-null   float64\n",
      " 37  A_k2        3500 non-null   float64\n",
      " 38  A_k3        3500 non-null   float64\n",
      " 39  A_k4        3500 non-null   float64\n",
      " 40  A_k5        3500 non-null   float64\n",
      " 41  A_k6        3500 non-null   float64\n",
      " 42  A_k7        3500 non-null   float64\n",
      " 43  A_k8        3500 non-null   float64\n",
      " 44  A_k9        3500 non-null   float64\n",
      " 45  A_k10       3500 non-null   float64\n",
      " 46  A_k11       3500 non-null   float64\n",
      " 47  A_k12       3500 non-null   float64\n",
      " 48  A_k13       3500 non-null   float64\n",
      " 49  A_k14       3500 non-null   float64\n",
      " 50  A_k15       3500 non-null   float64\n",
      " 51  A_k16       3500 non-null   float64\n",
      " 52  A_k17       3500 non-null   float64\n",
      " 53  A_k18       3500 non-null   float64\n",
      " 54  A_k19       3500 non-null   float64\n",
      " 55  A_k20       3500 non-null   float64\n",
      " 56  A_k21       3500 non-null   float64\n",
      " 57  A_k22       3500 non-null   float64\n",
      " 58  A_k23       3500 non-null   float64\n",
      " 59  A_k24       3500 non-null   float64\n",
      " 60  P_k1        3500 non-null   float64\n",
      " 61  P_k2        3500 non-null   float64\n",
      " 62  P_k3        3500 non-null   float64\n",
      " 63  P_k4        3500 non-null   float64\n",
      " 64  P_k5        3500 non-null   float64\n",
      " 65  P_k6        3500 non-null   float64\n",
      " 66  P_k7        3500 non-null   float64\n",
      " 67  P_k8        3500 non-null   float64\n",
      " 68  P_k9        3500 non-null   float64\n",
      " 69  P_k10       3500 non-null   float64\n",
      " 70  P_k11       3500 non-null   float64\n",
      " 71  P_k12       3500 non-null   float64\n",
      " 72  P_k13       3500 non-null   float64\n",
      " 73  P_k14       3500 non-null   float64\n",
      " 74  P_k15       3500 non-null   float64\n",
      " 75  P_k16       3500 non-null   float64\n",
      " 76  P_k17       3500 non-null   float64\n",
      " 77  P_k18       3500 non-null   float64\n",
      " 78  P_k19       3500 non-null   float64\n",
      " 79  P_k20       3500 non-null   float64\n",
      " 80  P_k21       3500 non-null   float64\n",
      " 81  P_k22       3500 non-null   float64\n",
      " 82  P_k23       3500 non-null   float64\n",
      " 83  P_k24       3500 non-null   float64\n",
      " 84  DP          3500 non-null   float64\n",
      " 85  fcomp1      3500 non-null   float64\n",
      " 86  fcomp2      3500 non-null   float64\n",
      " 87  fcomp3      3500 non-null   float64\n",
      " 88  fcomp4      3500 non-null   float64\n",
      " 89  fcomp5      3500 non-null   float64\n",
      " 90  fcomp6      3500 non-null   float64\n",
      " 91  fcomb1      3500 non-null   float64\n",
      " 92  fcomb2      3500 non-null   float64\n",
      " 93  fcomb3      3500 non-null   float64\n",
      " 94  fcomb4      3500 non-null   float64\n",
      " 95  fcomb5      3500 non-null   float64\n",
      " 96  fcomb6      3500 non-null   float64\n",
      " 97  4 - Class   3500 non-null   object \n",
      " 98  14 - Class  3500 non-null   object \n",
      "dtypes: float64(95), int64(2), object(2)\n",
      "memory usage: 2.6+ MB\n"
     ]
    }
   ],
   "source": [
    "df.info()"
   ]
  },
  {
   "cell_type": "code",
   "execution_count": 4,
   "id": "c5054278",
   "metadata": {},
   "outputs": [
    {
     "data": {
      "text/plain": [
       "Mp_1          0\n",
       "Mp_2          0\n",
       "Mp_3          0\n",
       "Mp_4          0\n",
       "Mp_5          0\n",
       "             ..\n",
       "fcomb4        0\n",
       "fcomb5        0\n",
       "fcomb6        0\n",
       "4 - Class     0\n",
       "14 - Class    0\n",
       "Length: 99, dtype: int64"
      ]
     },
     "execution_count": 4,
     "metadata": {},
     "output_type": "execute_result"
    }
   ],
   "source": [
    "df.isna().sum()"
   ]
  },
  {
   "cell_type": "code",
   "execution_count": 5,
   "id": "27b31651",
   "metadata": {},
   "outputs": [],
   "source": [
    "##spilitting the data into x (features) and y (label)\n",
    "x=df.iloc[:,:-14].values\n",
    "y_14=df.iloc[:,-1].values\n",
    "y_4=df.iloc[:,-2].values\n",
    "yy4=y_4"
   ]
  },
  {
   "cell_type": "code",
   "execution_count": 6,
   "id": "ac29a535",
   "metadata": {},
   "outputs": [],
   "source": [
    "from sklearn.preprocessing import LabelEncoder\n",
    "lb=LabelEncoder()"
   ]
  },
  {
   "cell_type": "code",
   "execution_count": 7,
   "id": "ee5b3ef2",
   "metadata": {},
   "outputs": [
    {
     "data": {
      "text/plain": [
       "array([1, 1, 1, ..., 3, 3, 3])"
      ]
     },
     "execution_count": 7,
     "metadata": {},
     "output_type": "execute_result"
    }
   ],
   "source": [
    "yy4=lb.fit_transform(yy4)\n",
    "yy4"
   ]
  },
  {
   "cell_type": "code",
   "execution_count": 8,
   "id": "3186b9b8",
   "metadata": {},
   "outputs": [],
   "source": [
    "from sklearn.model_selection import train_test_split\n",
    "X_train, X_test, y_train, y_test = train_test_split(x, yy4, test_size = 0.2, random_state = 10)"
   ]
  },
  {
   "cell_type": "code",
   "execution_count": 9,
   "id": "a61f8657",
   "metadata": {},
   "outputs": [],
   "source": [
    "from sklearn.preprocessing import StandardScaler\n",
    "sc = StandardScaler()\n",
    "X_train = sc.fit_transform(X_train)\n",
    "X_test = sc.transform(X_test)\n"
   ]
  },
  {
   "cell_type": "code",
   "execution_count": 10,
   "id": "e595a6ca",
   "metadata": {},
   "outputs": [],
   "source": [
    "from sklearn.ensemble import RandomForestClassifier"
   ]
  },
  {
   "cell_type": "code",
   "execution_count": 11,
   "id": "9a666e4d",
   "metadata": {},
   "outputs": [
    {
     "data": {
      "text/plain": [
       "RandomForestClassifier(random_state=0)"
      ]
     },
     "execution_count": 11,
     "metadata": {},
     "output_type": "execute_result"
    }
   ],
   "source": [
    "# Fitting Random Forest Classification to the Training set\n",
    "classifier_1 = RandomForestClassifier( random_state = 0)\n",
    "classifier_1.fit(X_train, y_train)"
   ]
  },
  {
   "cell_type": "markdown",
   "id": "48b3ff43",
   "metadata": {},
   "source": [
    "# hyperparameter tunning"
   ]
  },
  {
   "cell_type": "code",
   "execution_count": 12,
   "id": "5e862cdb",
   "metadata": {},
   "outputs": [
    {
     "name": "stdout",
     "output_type": "stream",
     "text": [
      "Best criterion: entropy\n",
      "Best n_estimators: 84\n"
     ]
    }
   ],
   "source": [
    "#List Hyperparameters that we want to tune.\n",
    "n_estimators = list(range(10,100))\n",
    "criterion = ['entropy','gini']\n",
    "#Convert to dictionary\n",
    "hyperparameters = dict( n_estimators=n_estimators, criterion=criterion)\n",
    "#Create new KNN object\n",
    "Rf = RandomForestClassifier()\n",
    "#Use GridSearch\n",
    "clf = GridSearchCV(Rf, hyperparameters, cv=10)\n",
    "#Fit the model\n",
    "best_model = clf.fit(X_train,y_train)\n",
    "#Print The value of best Hyperparameters\n",
    "print('Best criterion:', best_model.best_estimator_.get_params()['criterion'])\n",
    "print('Best n_estimators:', best_model.best_estimator_.get_params()['n_estimators'])"
   ]
  },
  {
   "cell_type": "code",
   "execution_count": 39,
   "id": "886cafdc",
   "metadata": {},
   "outputs": [
    {
     "data": {
      "text/plain": [
       "RandomForestClassifier(criterion='entropy', n_estimators=84, random_state=10)"
      ]
     },
     "execution_count": 39,
     "metadata": {},
     "output_type": "execute_result"
    }
   ],
   "source": [
    "# Fitting Random Forest Classification to the Training set\n",
    "classifier = RandomForestClassifier(n_estimators = 84, criterion = 'entropy', random_state = 10)\n",
    "classifier.fit(X_train, y_train)"
   ]
  },
  {
   "cell_type": "code",
   "execution_count": 40,
   "id": "2015287e",
   "metadata": {},
   "outputs": [],
   "source": [
    "y_pred = classifier.predict(X_test)"
   ]
  },
  {
   "cell_type": "code",
   "execution_count": 41,
   "id": "2fcb109a",
   "metadata": {},
   "outputs": [],
   "source": [
    "y_pred_1 = classifier_1.predict(X_test)"
   ]
  },
  {
   "cell_type": "code",
   "execution_count": 42,
   "id": "c3c8bcab",
   "metadata": {},
   "outputs": [],
   "source": [
    "from sklearn.metrics import confusion_matrix, accuracy_score\n",
    "cm_1 = confusion_matrix(y_test, y_pred_1)"
   ]
  },
  {
   "cell_type": "code",
   "execution_count": 43,
   "id": "82f0ce75",
   "metadata": {},
   "outputs": [],
   "source": [
    "from sklearn.metrics import confusion_matrix, accuracy_score\n",
    "cm = confusion_matrix(y_test, y_pred)"
   ]
  },
  {
   "cell_type": "code",
   "execution_count": 44,
   "id": "704fc4d6",
   "metadata": {},
   "outputs": [
    {
     "data": {
      "text/plain": [
       "array([[306,   0,   0,   3],\n",
       "       [  0,  61,   0,   0],\n",
       "       [  0,   0,  47,   0],\n",
       "       [  1,   0,   0, 282]], dtype=int64)"
      ]
     },
     "execution_count": 44,
     "metadata": {},
     "output_type": "execute_result"
    }
   ],
   "source": [
    "cm_1"
   ]
  },
  {
   "cell_type": "code",
   "execution_count": 45,
   "id": "03d4bfdb",
   "metadata": {},
   "outputs": [
    {
     "data": {
      "text/plain": [
       "0.9957142857142857"
      ]
     },
     "execution_count": 45,
     "metadata": {},
     "output_type": "execute_result"
    }
   ],
   "source": [
    "accuracy_score(y_test, y_pred)"
   ]
  },
  {
   "cell_type": "code",
   "execution_count": 46,
   "id": "999fd1ff",
   "metadata": {},
   "outputs": [
    {
     "data": {
      "text/plain": [
       "0.9942857142857143"
      ]
     },
     "execution_count": 46,
     "metadata": {},
     "output_type": "execute_result"
    }
   ],
   "source": [
    "accuracy_score(y_test, y_pred_1)"
   ]
  },
  {
   "cell_type": "code",
   "execution_count": 47,
   "id": "e1d782c0",
   "metadata": {},
   "outputs": [],
   "source": [
    "import seaborn as sn\n",
    "import matplotlib.pyplot as plt\n",
    "import sklearn.metrics"
   ]
  },
  {
   "cell_type": "code",
   "execution_count": 48,
   "id": "b5f11a5e",
   "metadata": {},
   "outputs": [
    {
     "data": {
      "text/plain": [
       "(700,)"
      ]
     },
     "execution_count": 48,
     "metadata": {},
     "output_type": "execute_result"
    }
   ],
   "source": [
    "class_labels = list(y_test)\n",
    "y_pred.shape\n",
    "y_test.shape"
   ]
  },
  {
   "cell_type": "code",
   "execution_count": 49,
   "id": "a23f2685",
   "metadata": {},
   "outputs": [
    {
     "data": {
      "text/plain": [
       "<AxesSubplot:xlabel='Predicted', ylabel='Actual'>"
      ]
     },
     "execution_count": 49,
     "metadata": {},
     "output_type": "execute_result"
    },
    {
     "data": {
      "image/png": "[encoded data removed]",
      "text/plain": [
       "<Figure size 720x504 with 2 Axes>"
      ]
     },
     "metadata": {},
     "output_type": "display_data"
    }
   ],
   "source": [
    "df_cm = pd.DataFrame(cm )\n",
    "df_cm.index.name = 'Actual'\n",
    "df_cm.columns.name = 'Predicted'\n",
    "plt.figure(figsize = (10,7))\n",
    "sn.set(font_scale=1.4)#for label size\n",
    "sn.heatmap(df_cm, cmap=\"Blues\", annot=True,annot_kws={\"size\": 16})# font size"
   ]
  },
  {
   "cell_type": "markdown",
   "id": "2fbe043b",
   "metadata": {},
   "source": [
    "## 14 class classification "
   ]
  },
  {
   "cell_type": "code",
   "execution_count": 50,
   "id": "6179066e",
   "metadata": {},
   "outputs": [
    {
     "data": {
      "text/plain": [
       "(3500,)"
      ]
     },
     "execution_count": 50,
     "metadata": {},
     "output_type": "execute_result"
    }
   ],
   "source": [
    "yyy4=y_14\n",
    "yyy4.shape"
   ]
  },
  {
   "cell_type": "code",
   "execution_count": 51,
   "id": "e8c40b61",
   "metadata": {},
   "outputs": [],
   "source": [
    "y_T=[y_14]"
   ]
  },
  {
   "cell_type": "markdown",
   "id": "a9f705ba",
   "metadata": {},
   "source": [
    "### Label encoding"
   ]
  },
  {
   "cell_type": "code",
   "execution_count": 52,
   "id": "9e951178",
   "metadata": {},
   "outputs": [
    {
     "data": {
      "text/plain": [
       "array([ 6,  6,  6, ..., 13, 13, 13])"
      ]
     },
     "execution_count": 52,
     "metadata": {},
     "output_type": "execute_result"
    }
   ],
   "source": [
    "from sklearn.preprocessing import LabelEncoder\n",
    "lb= LabelEncoder()\n",
    "yyy4=lb.fit_transform(yyy4)\n",
    "yyy4"
   ]
  },
  {
   "cell_type": "code",
   "execution_count": 53,
   "id": "a015d9bc",
   "metadata": {},
   "outputs": [],
   "source": [
    "from sklearn.model_selection import train_test_split\n",
    "Xtrain2, Xtest2, ytrain2, ytest2 = train_test_split(x, yyy4, test_size = 0.2, random_state = 10)"
   ]
  },
  {
   "cell_type": "code",
   "execution_count": 54,
   "id": "aaf4b590",
   "metadata": {},
   "outputs": [],
   "source": [
    "# from sklearn.preprocessing import StandardScaler\n",
    "# sc = StandardScaler()\n",
    "# Xtrain2 = sc.fit_transform(Xtrain2)\n",
    "# Xtest2 = sc.transform(Xtest2)"
   ]
  },
  {
   "cell_type": "code",
   "execution_count": 55,
   "id": "170f868c",
   "metadata": {},
   "outputs": [
    {
     "data": {
      "text/plain": [
       "RandomForestClassifier(criterion='entropy', n_estimators=84, random_state=0)"
      ]
     },
     "execution_count": 55,
     "metadata": {},
     "output_type": "execute_result"
    }
   ],
   "source": [
    "# Fitting Random Forest Classification to the Training set\n",
    "classifier = RandomForestClassifier(n_estimators = 84, criterion = 'entropy', random_state = 0)\n",
    "classifier.fit(Xtrain2, ytrain2)"
   ]
  },
  {
   "cell_type": "code",
   "execution_count": 56,
   "id": "03da5fae",
   "metadata": {},
   "outputs": [],
   "source": [
    "y_pred2 = classifier.predict(Xtest2)"
   ]
  },
  {
   "cell_type": "code",
   "execution_count": 57,
   "id": "f9182a40",
   "metadata": {},
   "outputs": [],
   "source": [
    "class_labels = list(ytest2)"
   ]
  },
  {
   "cell_type": "code",
   "execution_count": 58,
   "id": "04c46504",
   "metadata": {},
   "outputs": [],
   "source": [
    "from sklearn.metrics import confusion_matrix, accuracy_score\n",
    "cm2 = confusion_matrix(ytest2, y_pred2)"
   ]
  },
  {
   "cell_type": "code",
   "execution_count": 59,
   "id": "225dbeea",
   "metadata": {},
   "outputs": [
    {
     "data": {
      "text/plain": [
       "0.9885714285714285"
      ]
     },
     "execution_count": 59,
     "metadata": {},
     "output_type": "execute_result"
    }
   ],
   "source": [
    "accuracy_score(ytest2, y_pred2)"
   ]
  },
  {
   "cell_type": "code",
   "execution_count": 60,
   "id": "a735a95d",
   "metadata": {},
   "outputs": [],
   "source": [
    "import matplotlib.pyplot as plt\n",
    "import sklearn.metrics"
   ]
  },
  {
   "cell_type": "code",
   "execution_count": 61,
   "id": "3fcc1ad8",
   "metadata": {},
   "outputs": [
    {
     "data": {
      "text/plain": [
       "<AxesSubplot:xlabel='Predicted', ylabel='Actual'>"
      ]
     },
     "execution_count": 61,
     "metadata": {},
     "output_type": "execute_result"
    },
    {
     "data": {
      "image/png": "[encoded data removed]",
      "text/plain": [
       "<Figure size 720x504 with 2 Axes>"
      ]
     },
     "metadata": {},
     "output_type": "display_data"
    }
   ],
   "source": [
    "df_cm = pd.DataFrame(cm2)\n",
    "df_cm.index.name = 'Actual'\n",
    "df_cm.columns.name = 'Predicted'\n",
    "plt.figure(figsize = (10,7))\n",
    "sn.set(font_scale=1.4)#for label size\n",
    "sn.heatmap(df_cm, cmap=\"Blues\", annot=True,annot_kws={\"size\": 16})# font size"
   ]
  },
  {
   "cell_type": "code",
   "execution_count": 63,
   "id": "3ccd4753",
   "metadata": {},
   "outputs": [
    {
     "name": "stdout",
     "output_type": "stream",
     "text": [
      "Fold:1, Train set: 2800, Test set:700\n",
      "Fold:2, Train set: 2800, Test set:700\n",
      "Fold:3, Train set: 2800, Test set:700\n",
      "Fold:4, Train set: 2800, Test set:700\n",
      "Fold:5, Train set: 2800, Test set:700\n"
     ]
    }
   ],
   "source": [
    "from sklearn.model_selection import StratifiedKFold\n",
    "kf = StratifiedKFold(n_splits=5, shuffle=True, random_state=42)\n",
    "\n",
    "cnt=1\n",
    "# split()  method generate indices to split data into training and test set.\n",
    "for train_index, test_index in kf.split(x, yy4):\n",
    "    print(f'Fold:{cnt}, Train set: {len(train_index)}, Test set:{len(test_index)}')\n",
    "    cnt+=1"
   ]
  },
  {
   "cell_type": "code",
   "execution_count": 72,
   "id": "22ee71d0",
   "metadata": {},
   "outputs": [
    {
     "name": "stdout",
     "output_type": "stream",
     "text": [
      "Scores for each fold are: [0.98714286 0.98857143 0.98571429 0.99571429 0.99142857]\n",
      "Average score of 4-Class:  0.9897142857142857\n"
     ]
    }
   ],
   "source": [
    "from sklearn.model_selection import cross_val_score\n",
    "score = cross_val_score(RandomForestClassifier(n_estimators = 84, criterion = 'entropy', random_state = 0), x, yy4, cv= kf, scoring=\"accuracy\")\n",
    "print(f'Scores for each fold are: { score}')\n",
    "print(f'Average score of 4-Class:  {score.mean()}')"
   ]
  },
  {
   "cell_type": "code",
   "execution_count": 71,
   "id": "7562f3d5",
   "metadata": {},
   "outputs": [
    {
     "name": "stdout",
     "output_type": "stream",
     "text": [
      "Scores for each fold are: [0.97857143 0.98285714 0.98571429 0.98571429 0.98      ]\n",
      "Average score of 14 Class:  0.9825714285714285\n"
     ]
    }
   ],
   "source": [
    "from sklearn.model_selection import cross_val_score\n",
    "score = cross_val_score(RandomForestClassifier(n_estimators = 84, criterion = 'entropy', random_state = 0), x, yyy4, cv= kf, scoring=\"accuracy\")\n",
    "print(f'Scores for each fold are: {score}')\n",
    "print(f'Average score of 14 Class:  {score.mean()}')"
   ]
  }
 ],
 "metadata": {
  "kernelspec": {
   "display_name": "Python 3",
   "language": "python",
   "name": "python3"
  },
  "language_info": {
   "codemirror_mode": {
    "name": "ipython",
    "version": 3
   },
   "file_extension": ".py",
   "mimetype": "text/x-python",
   "name": "python",
   "nbconvert_exporter": "python",
   "pygments_lexer": "ipython3",
   "version": "3.8.8"
  }
 },
 "nbformat": 4,
 "nbformat_minor": 5
}
