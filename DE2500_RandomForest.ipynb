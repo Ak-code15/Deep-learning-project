{
 "cells": [
  {
   "cell_type": "code",
   "execution_count": 1,
   "metadata": {
    "colab": {
     "base_uri": "https://localhost:8080/"
    },
    "executionInfo": {
     "elapsed": 4,
     "status": "ok",
     "timestamp": 1627464805146,
     "user": {
      "displayName": "Nawaz NM",
      "photoUrl": "https://lh3.googleusercontent.com/a-/AOh14GgewJHtCrvL1OtL24NKc-IuG_YYfVEOazEnrtVtUg=s64",
      "userId": "10329758736889037941"
     },
     "user_tz": -330
    },
    "id": "6429y1k2aNQ8",
    "outputId": "148d499c-ee95-4894-8dda-ab98ac54d456"
   },
   "outputs": [
    {
     "name": "stdout",
     "output_type": "stream",
     "text": [
      "Libraries Imported\n"
     ]
    }
   ],
   "source": [
    "#Importing Libraries\n",
    "import numpy as np\n",
    "import pandas as pd\n",
    "from sklearn.model_selection import train_test_split\n",
    "from sklearn.preprocessing import StandardScaler\n",
    "from sklearn.ensemble import RandomForestClassifier\n",
    "from sklearn.metrics import confusion_matrix\n",
    "# from sklearn.externals import joblib\n",
    "print('Libraries Imported')"
   ]
  },
  {
   "cell_type": "code",
   "execution_count": 2,
   "metadata": {
    "colab": {
     "base_uri": "https://localhost:8080/"
    },
    "executionInfo": {
     "elapsed": 1313,
     "status": "ok",
     "timestamp": 1627464810070,
     "user": {
      "displayName": "Nawaz NM",
      "photoUrl": "https://lh3.googleusercontent.com/a-/AOh14GgewJHtCrvL1OtL24NKc-IuG_YYfVEOazEnrtVtUg=s64",
      "userId": "10329758736889037941"
     },
     "user_tz": -330
    },
    "id": "Yq8vmyMfYRhN",
    "outputId": "f86d90f0-f7a3-4119-ccb0-c43a13ccf219"
   },
   "outputs": [],
   "source": [
    "# from google.colab import drive\n",
    "# drive.mount('/content/drive')"
   ]
  },
  {
   "cell_type": "code",
   "execution_count": 3,
   "metadata": {
    "executionInfo": {
     "elapsed": 6645,
     "status": "ok",
     "timestamp": 1627464822052,
     "user": {
      "displayName": "Nawaz NM",
      "photoUrl": "https://lh3.googleusercontent.com/a-/AOh14GgewJHtCrvL1OtL24NKc-IuG_YYfVEOazEnrtVtUg=s64",
      "userId": "10329758736889037941"
     },
     "user_tz": -330
    },
    "id": "YQomV0xWit9Q"
   },
   "outputs": [],
   "source": [
    "dataset = pd.read_excel('Features_2500RPM_15dB.xlsx')"
   ]
  },
  {
   "cell_type": "markdown",
   "metadata": {
    "id": "Tu__fVF-izV8"
   },
   "source": [
    "### 4-Class Classification"
   ]
  },
  {
   "cell_type": "code",
   "execution_count": 26,
   "metadata": {
    "executionInfo": {
     "elapsed": 591,
     "status": "ok",
     "timestamp": 1627464824467,
     "user": {
      "displayName": "Nawaz NM",
      "photoUrl": "https://lh3.googleusercontent.com/a-/AOh14GgewJHtCrvL1OtL24NKc-IuG_YYfVEOazEnrtVtUg=s64",
      "userId": "10329758736889037941"
     },
     "user_tz": -330
    },
    "id": "iMQNlkYGit61"
   },
   "outputs": [],
   "source": [
    "X = dataset.iloc[:, :-14].values\n",
    "y_14 = dataset.iloc[:,-1].values\n",
    "y_4 = dataset.iloc[:,-2].values\n",
    "y_OHE = y_4"
   ]
  },
  {
   "cell_type": "code",
   "execution_count": 27,
   "metadata": {
    "colab": {
     "base_uri": "https://localhost:8080/"
    },
    "executionInfo": {
     "elapsed": 22,
     "status": "ok",
     "timestamp": 1627464825229,
     "user": {
      "displayName": "Nawaz NM",
      "photoUrl": "https://lh3.googleusercontent.com/a-/AOh14GgewJHtCrvL1OtL24NKc-IuG_YYfVEOazEnrtVtUg=s64",
      "userId": "10329758736889037941"
     },
     "user_tz": -330
    },
    "id": "C8KLNvMvit3x",
    "outputId": "1485f372-cba2-4130-fc4d-23bb9e842996"
   },
   "outputs": [],
   "source": [
    "# from sklearn.preprocessing import OneHotEncoder\n",
    "# encoder = OneHotEncoder(sparse=False)\n",
    "# y_OHE = pd.get_dummies(y_OHE)\n",
    "# onehot = encoder.fit_transform(y_OHE)\n",
    "# print(onehot)"
   ]
  },
  {
   "cell_type": "code",
   "execution_count": 28,
   "metadata": {
    "executionInfo": {
     "elapsed": 18,
     "status": "ok",
     "timestamp": 1627464825233,
     "user": {
      "displayName": "Nawaz NM",
      "photoUrl": "https://lh3.googleusercontent.com/a-/AOh14GgewJHtCrvL1OtL24NKc-IuG_YYfVEOazEnrtVtUg=s64",
      "userId": "10329758736889037941"
     },
     "user_tz": -330
    },
    "id": "WGDwIMQpjC7M"
   },
   "outputs": [],
   "source": [
    "from sklearn.model_selection import train_test_split\n",
    "X_OHE_train, X_OHE_test, y_OHE_train, y_OHE_test = train_test_split(X, y_OHE, test_size = 0.2, random_state = 0)  "
   ]
  },
  {
   "cell_type": "code",
   "execution_count": 29,
   "metadata": {
    "executionInfo": {
     "elapsed": 18,
     "status": "ok",
     "timestamp": 1627464825235,
     "user": {
      "displayName": "Nawaz NM",
      "photoUrl": "https://lh3.googleusercontent.com/a-/AOh14GgewJHtCrvL1OtL24NKc-IuG_YYfVEOazEnrtVtUg=s64",
      "userId": "10329758736889037941"
     },
     "user_tz": -330
    },
    "id": "fIl0s1ecjC4M"
   },
   "outputs": [],
   "source": [
    "# from sklearn.preprocessing import StandardScaler\n",
    "# sc = StandardScaler()\n",
    "# X_OHE_train = sc.fit_transform(X_OHE_train)\n",
    "# X_OHE_test = sc.transform(X_OHE_test)\n",
    "# X_OHE_train"
   ]
  },
  {
   "cell_type": "markdown",
   "metadata": {
    "id": "rMwtRChZjg5L"
   },
   "source": [
    "### Constructing & Training Random Forest"
   ]
  },
  {
   "cell_type": "code",
   "execution_count": 35,
   "metadata": {
    "colab": {
     "base_uri": "https://localhost:8080/"
    },
    "executionInfo": {
     "elapsed": 3865,
     "status": "ok",
     "timestamp": 1627464829822,
     "user": {
      "displayName": "Nawaz NM",
      "photoUrl": "https://lh3.googleusercontent.com/a-/AOh14GgewJHtCrvL1OtL24NKc-IuG_YYfVEOazEnrtVtUg=s64",
      "userId": "10329758736889037941"
     },
     "user_tz": -330
    },
    "id": "84FqP8Tsjfbv",
    "outputId": "7ff05e91-e92f-430a-96f7-cafeec74a1d2"
   },
   "outputs": [
    {
     "data": {
      "text/plain": [
       "RandomForestClassifier(criterion='entropy', n_estimators=84, random_state=0)"
      ]
     },
     "execution_count": 35,
     "metadata": {},
     "output_type": "execute_result"
    }
   ],
   "source": [
    "# Fitting Random Forest Classification to the Training set\n",
    "classifier = RandomForestClassifier(n_estimators = 84, criterion = 'entropy', random_state = 0)\n",
    "classifier.fit(X_OHE_train, y_OHE_train)"
   ]
  },
  {
   "cell_type": "code",
   "execution_count": 36,
   "metadata": {
    "executionInfo": {
     "elapsed": 21,
     "status": "ok",
     "timestamp": 1627464829823,
     "user": {
      "displayName": "Nawaz NM",
      "photoUrl": "https://lh3.googleusercontent.com/a-/AOh14GgewJHtCrvL1OtL24NKc-IuG_YYfVEOazEnrtVtUg=s64",
      "userId": "10329758736889037941"
     },
     "user_tz": -330
    },
    "id": "r0GCl0F9jfWf"
   },
   "outputs": [],
   "source": [
    "y_pred = classifier.predict(X_OHE_test)"
   ]
  },
  {
   "cell_type": "code",
   "execution_count": 37,
   "metadata": {
    "colab": {
     "base_uri": "https://localhost:8080/"
    },
    "executionInfo": {
     "elapsed": 22,
     "status": "ok",
     "timestamp": 1627464829824,
     "user": {
      "displayName": "Nawaz NM",
      "photoUrl": "https://lh3.googleusercontent.com/a-/AOh14GgewJHtCrvL1OtL24NKc-IuG_YYfVEOazEnrtVtUg=s64",
      "userId": "10329758736889037941"
     },
     "user_tz": -330
    },
    "id": "eTq28IoHjC1s",
    "outputId": "618a035e-b60f-4b0c-e648-327cd640aa39"
   },
   "outputs": [],
   "source": [
    "# class_labels = list(y_OHE_test)\n",
    "# y_OHE_test = y_OHE_test.to_numpy()\n",
    "# type(y_OHE_test)\n",
    "# y_OHE_test"
   ]
  },
  {
   "cell_type": "code",
   "execution_count": 38,
   "metadata": {},
   "outputs": [],
   "source": [
    "# y_OHE_test.shape"
   ]
  },
  {
   "cell_type": "code",
   "execution_count": 39,
   "metadata": {
    "executionInfo": {
     "elapsed": 22,
     "status": "ok",
     "timestamp": 1627464829826,
     "user": {
      "displayName": "Nawaz NM",
      "photoUrl": "https://lh3.googleusercontent.com/a-/AOh14GgewJHtCrvL1OtL24NKc-IuG_YYfVEOazEnrtVtUg=s64",
      "userId": "10329758736889037941"
     },
     "user_tz": -330
    },
    "id": "n3e-jXMWjbhP"
   },
   "outputs": [],
   "source": [
    "# from sklearn.metrics import confusion_matrix, accuracy_score\n",
    "# cm = confusion_matrix(y_OHE_test.argmax(axis=1), y_pred.argmax(axis=1))"
   ]
  },
  {
   "cell_type": "code",
   "execution_count": 40,
   "metadata": {
    "colab": {
     "base_uri": "https://localhost:8080/"
    },
    "executionInfo": {
     "elapsed": 22,
     "status": "ok",
     "timestamp": 1627464829827,
     "user": {
      "displayName": "Nawaz NM",
      "photoUrl": "https://lh3.googleusercontent.com/a-/AOh14GgewJHtCrvL1OtL24NKc-IuG_YYfVEOazEnrtVtUg=s64",
      "userId": "10329758736889037941"
     },
     "user_tz": -330
    },
    "id": "YoOu-9uOjbex",
    "outputId": "2ff1e461-6ab1-4eeb-8248-417ae9500695"
   },
   "outputs": [],
   "source": [
    "# cm"
   ]
  },
  {
   "cell_type": "code",
   "execution_count": 42,
   "metadata": {},
   "outputs": [],
   "source": [
    " y_predt=classifier.predict(X_OHE_train)"
   ]
  },
  {
   "cell_type": "code",
   "execution_count": 43,
   "metadata": {},
   "outputs": [
    {
     "data": {
      "text/plain": [
       "1.0"
      ]
     },
     "execution_count": 43,
     "metadata": {},
     "output_type": "execute_result"
    }
   ],
   "source": [
    "accuracy_score(y_OHE_train, y_predt)"
   ]
  },
  {
   "cell_type": "code",
   "execution_count": 44,
   "metadata": {
    "colab": {
     "base_uri": "https://localhost:8080/"
    },
    "executionInfo": {
     "elapsed": 20,
     "status": "ok",
     "timestamp": 1627464829827,
     "user": {
      "displayName": "Nawaz NM",
      "photoUrl": "https://lh3.googleusercontent.com/a-/AOh14GgewJHtCrvL1OtL24NKc-IuG_YYfVEOazEnrtVtUg=s64",
      "userId": "10329758736889037941"
     },
     "user_tz": -330
    },
    "id": "-vZ9HmSykfLx",
    "outputId": "ed05d948-aac2-409d-c2c2-f3f55a2b428e"
   },
   "outputs": [
    {
     "data": {
      "text/plain": [
       "0.9928571428571429"
      ]
     },
     "execution_count": 44,
     "metadata": {},
     "output_type": "execute_result"
    }
   ],
   "source": [
    "accuracy_score(y_OHE_test, y_pred)"
   ]
  },
  {
   "cell_type": "code",
   "execution_count": 24,
   "metadata": {},
   "outputs": [
    {
     "data": {
      "text/plain": [
       "(4,)"
      ]
     },
     "execution_count": 24,
     "metadata": {},
     "output_type": "execute_result"
    }
   ],
   "source": [
    "np.shape(class_labels)"
   ]
  },
  {
   "cell_type": "code",
   "execution_count": 25,
   "metadata": {
    "executionInfo": {
     "elapsed": 19,
     "status": "ok",
     "timestamp": 1627464829828,
     "user": {
      "displayName": "Nawaz NM",
      "photoUrl": "https://lh3.googleusercontent.com/a-/AOh14GgewJHtCrvL1OtL24NKc-IuG_YYfVEOazEnrtVtUg=s64",
      "userId": "10329758736889037941"
     },
     "user_tz": -330
    },
    "id": "IwMWJmAFkuAv"
   },
   "outputs": [],
   "source": [
    "import pandas as pd\n",
    "import seaborn as sn\n",
    "import matplotlib.pyplot as plt\n",
    "import sklearn.metrics"
   ]
  },
  {
   "cell_type": "code",
   "execution_count": 16,
   "metadata": {
    "colab": {
     "base_uri": "https://localhost:8080/",
     "height": 858
    },
    "executionInfo": {
     "elapsed": 19,
     "status": "ok",
     "timestamp": 1627464829829,
     "user": {
      "displayName": "Nawaz NM",
      "photoUrl": "https://lh3.googleusercontent.com/a-/AOh14GgewJHtCrvL1OtL24NKc-IuG_YYfVEOazEnrtVtUg=s64",
      "userId": "10329758736889037941"
     },
     "user_tz": -330
    },
    "id": "CmlfaEmslL6x",
    "outputId": "46b771db-6790-4f22-a194-7b6f0ba78f3c"
   },
   "outputs": [
    {
     "data": {
      "text/plain": [
       "<AxesSubplot:xlabel='Predicted', ylabel='Actual'>"
      ]
     },
     "execution_count": 16,
     "metadata": {},
     "output_type": "execute_result"
    },
    {
     "data": {
      "image/png": "[encoded data removed]",
      "text/plain": [
       "<Figure size 720x504 with 2 Axes>"
      ]
     },
     "metadata": {
      "needs_background": "light"
     },
     "output_type": "display_data"
    }
   ],
   "source": [
    "df_cm = pd.DataFrame(cm, columns=class_labels, index = class_labels)\n",
    "df_cm.index.name = 'Actual'\n",
    "df_cm.columns.name = 'Predicted'\n",
    "plt.figure(figsize = (10,7))\n",
    "sn.set(font_scale=1.4)#for label size\n",
    "sn.heatmap(df_cm, cmap=\"Blues\", annot=True,annot_kws={\"size\": 16})# font size"
   ]
  },
  {
   "cell_type": "code",
   "execution_count": 17,
   "metadata": {},
   "outputs": [
    {
     "data": {
      "text/html": [
       "<div>\n",
       "<style scoped>\n",
       "    .dataframe tbody tr th:only-of-type {\n",
       "        vertical-align: middle;\n",
       "    }\n",
       "\n",
       "    .dataframe tbody tr th {\n",
       "        vertical-align: top;\n",
       "    }\n",
       "\n",
       "    .dataframe thead th {\n",
       "        text-align: right;\n",
       "    }\n",
       "</style>\n",
       "<table border=\"1\" class=\"dataframe\">\n",
       "  <thead>\n",
       "    <tr style=\"text-align: right;\">\n",
       "      <th>Predicted</th>\n",
       "      <th>Compression Ratio Reduction in Cylinders</th>\n",
       "      <th>Normal</th>\n",
       "      <th>Pressure Reduction In Intake Manifold</th>\n",
       "      <th>Reduction in Amount of Fuel Injected into Cylinders</th>\n",
       "    </tr>\n",
       "    <tr>\n",
       "      <th>Actual</th>\n",
       "      <th></th>\n",
       "      <th></th>\n",
       "      <th></th>\n",
       "      <th></th>\n",
       "    </tr>\n",
       "  </thead>\n",
       "  <tbody>\n",
       "    <tr>\n",
       "      <th>Compression Ratio Reduction in Cylinders</th>\n",
       "      <td>287</td>\n",
       "      <td>0</td>\n",
       "      <td>0</td>\n",
       "      <td>5</td>\n",
       "    </tr>\n",
       "    <tr>\n",
       "      <th>Normal</th>\n",
       "      <td>1</td>\n",
       "      <td>49</td>\n",
       "      <td>0</td>\n",
       "      <td>0</td>\n",
       "    </tr>\n",
       "    <tr>\n",
       "      <th>Pressure Reduction In Intake Manifold</th>\n",
       "      <td>1</td>\n",
       "      <td>0</td>\n",
       "      <td>52</td>\n",
       "      <td>0</td>\n",
       "    </tr>\n",
       "    <tr>\n",
       "      <th>Reduction in Amount of Fuel Injected into Cylinders</th>\n",
       "      <td>1</td>\n",
       "      <td>0</td>\n",
       "      <td>0</td>\n",
       "      <td>304</td>\n",
       "    </tr>\n",
       "  </tbody>\n",
       "</table>\n",
       "</div>"
      ],
      "text/plain": [
       "Predicted                                           Compression Ratio Reduction in Cylinders  \\\n",
       "Actual                                                                                         \n",
       "Compression Ratio Reduction in Cylinders                                                 287   \n",
       "Normal                                                                                     1   \n",
       "Pressure Reduction In Intake Manifold                                                      1   \n",
       "Reduction in Amount of Fuel Injected into Cylin...                                         1   \n",
       "\n",
       "Predicted                                           Normal  \\\n",
       "Actual                                                       \n",
       "Compression Ratio Reduction in Cylinders                 0   \n",
       "Normal                                                  49   \n",
       "Pressure Reduction In Intake Manifold                    0   \n",
       "Reduction in Amount of Fuel Injected into Cylin...       0   \n",
       "\n",
       "Predicted                                           Pressure Reduction In Intake Manifold  \\\n",
       "Actual                                                                                      \n",
       "Compression Ratio Reduction in Cylinders                                                0   \n",
       "Normal                                                                                  0   \n",
       "Pressure Reduction In Intake Manifold                                                  52   \n",
       "Reduction in Amount of Fuel Injected into Cylin...                                      0   \n",
       "\n",
       "Predicted                                           Reduction in Amount of Fuel Injected into Cylinders  \n",
       "Actual                                                                                                   \n",
       "Compression Ratio Reduction in Cylinders                                                            5    \n",
       "Normal                                                                                              0    \n",
       "Pressure Reduction In Intake Manifold                                                               0    \n",
       "Reduction in Amount of Fuel Injected into Cylin...                                                304    "
      ]
     },
     "execution_count": 17,
     "metadata": {},
     "output_type": "execute_result"
    }
   ],
   "source": [
    "df_cm"
   ]
  },
  {
   "cell_type": "markdown",
   "metadata": {
    "id": "GUSQSXR-lPt-"
   },
   "source": [
    "### 14-Class Classification"
   ]
  },
  {
   "cell_type": "code",
   "execution_count": 18,
   "metadata": {
    "executionInfo": {
     "elapsed": 16,
     "status": "ok",
     "timestamp": 1627464829829,
     "user": {
      "displayName": "Nawaz NM",
      "photoUrl": "https://lh3.googleusercontent.com/a-/AOh14GgewJHtCrvL1OtL24NKc-IuG_YYfVEOazEnrtVtUg=s64",
      "userId": "10329758736889037941"
     },
     "user_tz": -330
    },
    "id": "MIVmJSORlXpw"
   },
   "outputs": [],
   "source": [
    "y_14 = dataset.iloc[:,-1].values\n",
    "y_OHE = y_14"
   ]
  },
  {
   "cell_type": "code",
   "execution_count": 42,
   "metadata": {
    "colab": {
     "base_uri": "https://localhost:8080/"
    },
    "executionInfo": {
     "elapsed": 17,
     "status": "ok",
     "timestamp": 1627464829830,
     "user": {
      "displayName": "Nawaz NM",
      "photoUrl": "https://lh3.googleusercontent.com/a-/AOh14GgewJHtCrvL1OtL24NKc-IuG_YYfVEOazEnrtVtUg=s64",
      "userId": "10329758736889037941"
     },
     "user_tz": -330
    },
    "id": "blkjjNEPle50",
    "outputId": "8637b343-5cec-482a-d7ef-2b823ce176a9"
   },
   "outputs": [
    {
     "name": "stdout",
     "output_type": "stream",
     "text": [
      "(3500, 28)\n"
     ]
    }
   ],
   "source": [
    "from sklearn.preprocessing import OneHotEncoder\n",
    "encoder = OneHotEncoder(sparse=False)\n",
    "y_OHE = pd.get_dummies(y_OHE)\n",
    "onehot = encoder.fit_transform(y_OHE)\n",
    "print(onehot.shape)"
   ]
  },
  {
   "cell_type": "code",
   "execution_count": 20,
   "metadata": {
    "executionInfo": {
     "elapsed": 14,
     "status": "ok",
     "timestamp": 1627464829830,
     "user": {
      "displayName": "Nawaz NM",
      "photoUrl": "https://lh3.googleusercontent.com/a-/AOh14GgewJHtCrvL1OtL24NKc-IuG_YYfVEOazEnrtVtUg=s64",
      "userId": "10329758736889037941"
     },
     "user_tz": -330
    },
    "id": "HpEGLxbtle3E"
   },
   "outputs": [],
   "source": [
    "from sklearn.model_selection import train_test_split\n",
    "X_OHE_train, X_OHE_test, y_OHE_train, y_OHE_test = train_test_split(X, y_OHE, test_size = 0.2, random_state = 0)  "
   ]
  },
  {
   "cell_type": "code",
   "execution_count": 21,
   "metadata": {
    "executionInfo": {
     "elapsed": 15,
     "status": "ok",
     "timestamp": 1627464829831,
     "user": {
      "displayName": "Nawaz NM",
      "photoUrl": "https://lh3.googleusercontent.com/a-/AOh14GgewJHtCrvL1OtL24NKc-IuG_YYfVEOazEnrtVtUg=s64",
      "userId": "10329758736889037941"
     },
     "user_tz": -330
    },
    "id": "3_JIahv_le0V"
   },
   "outputs": [],
   "source": [
    "from sklearn.preprocessing import StandardScaler\n",
    "sc = StandardScaler()\n",
    "X_OHE_train = sc.fit_transform(X_OHE_train)\n",
    "X_OHE_test = sc.transform(X_OHE_test)\n"
   ]
  },
  {
   "cell_type": "code",
   "execution_count": 22,
   "metadata": {
    "colab": {
     "base_uri": "https://localhost:8080/"
    },
    "executionInfo": {
     "elapsed": 6885,
     "status": "ok",
     "timestamp": 1627464836702,
     "user": {
      "displayName": "Nawaz NM",
      "photoUrl": "https://lh3.googleusercontent.com/a-/AOh14GgewJHtCrvL1OtL24NKc-IuG_YYfVEOazEnrtVtUg=s64",
      "userId": "10329758736889037941"
     },
     "user_tz": -330
    },
    "id": "y9f6m_oklexk",
    "outputId": "df189e50-277d-4e71-9138-92149df606f0"
   },
   "outputs": [
    {
     "data": {
      "text/plain": [
       "RandomForestClassifier(criterion='entropy', n_estimators=84, random_state=0)"
      ]
     },
     "execution_count": 22,
     "metadata": {},
     "output_type": "execute_result"
    }
   ],
   "source": [
    "# Fitting Random Forest Classification to the Training set\n",
    "classifier = RandomForestClassifier(n_estimators = 84, criterion = 'entropy', random_state = 0)\n",
    "classifier.fit(X_OHE_train, y_OHE_train)"
   ]
  },
  {
   "cell_type": "code",
   "execution_count": 23,
   "metadata": {
    "executionInfo": {
     "elapsed": 23,
     "status": "ok",
     "timestamp": 1627464836704,
     "user": {
      "displayName": "Nawaz NM",
      "photoUrl": "https://lh3.googleusercontent.com/a-/AOh14GgewJHtCrvL1OtL24NKc-IuG_YYfVEOazEnrtVtUg=s64",
      "userId": "10329758736889037941"
     },
     "user_tz": -330
    },
    "id": "DJIkmZa7levE"
   },
   "outputs": [],
   "source": [
    "y_pred = classifier.predict(X_OHE_test)"
   ]
  },
  {
   "cell_type": "code",
   "execution_count": 24,
   "metadata": {
    "colab": {
     "base_uri": "https://localhost:8080/"
    },
    "executionInfo": {
     "elapsed": 20,
     "status": "ok",
     "timestamp": 1627464836705,
     "user": {
      "displayName": "Nawaz NM",
      "photoUrl": "https://lh3.googleusercontent.com/a-/AOh14GgewJHtCrvL1OtL24NKc-IuG_YYfVEOazEnrtVtUg=s64",
      "userId": "10329758736889037941"
     },
     "user_tz": -330
    },
    "id": "FofGnTsxlwbJ",
    "outputId": "e703e2f0-5367-438c-b5a4-532536289e66"
   },
   "outputs": [
    {
     "data": {
      "text/plain": [
       "numpy.ndarray"
      ]
     },
     "execution_count": 24,
     "metadata": {},
     "output_type": "execute_result"
    }
   ],
   "source": [
    "class_labels = list(y_OHE_test)\n",
    "y_OHE_test = y_OHE_test.to_numpy()\n",
    "type(y_OHE_test)"
   ]
  },
  {
   "cell_type": "code",
   "execution_count": 25,
   "metadata": {
    "colab": {
     "base_uri": "https://localhost:8080/"
    },
    "executionInfo": {
     "elapsed": 19,
     "status": "ok",
     "timestamp": 1627464836707,
     "user": {
      "displayName": "Nawaz NM",
      "photoUrl": "https://lh3.googleusercontent.com/a-/AOh14GgewJHtCrvL1OtL24NKc-IuG_YYfVEOazEnrtVtUg=s64",
      "userId": "10329758736889037941"
     },
     "user_tz": -330
    },
    "id": "tbzxzTdalwYZ",
    "outputId": "d73812e3-8792-4d4d-ce0a-3b2353fa90cd"
   },
   "outputs": [
    {
     "data": {
      "text/plain": [
       "array([[66,  0,  0,  0,  0,  0,  0,  0,  0,  0,  0,  0,  0,  0],\n",
       "       [ 0, 46,  0,  0,  0,  0,  0,  0,  0,  0,  0,  0,  0,  0],\n",
       "       [ 2,  0, 40,  0,  0,  0,  0,  0,  0,  0,  0,  0,  0,  0],\n",
       "       [ 0,  0,  0, 50,  0,  0,  0,  0,  0,  0,  0,  0,  0,  0],\n",
       "       [ 0,  0,  0,  0, 39,  0,  0,  0,  0,  0,  0,  0,  0,  0],\n",
       "       [ 1,  0,  0,  0,  0, 48,  0,  0,  0,  0,  0,  0,  0,  0],\n",
       "       [ 1,  0,  0,  0,  0,  0, 49,  0,  0,  0,  0,  0,  0,  0],\n",
       "       [ 2,  0,  0,  0,  0,  0,  0, 51,  0,  0,  0,  0,  0,  0],\n",
       "       [ 5,  0,  0,  0,  0,  0,  0,  0, 45,  0,  0,  0,  0,  0],\n",
       "       [ 2,  0,  0,  0,  0,  0,  0,  0,  0, 38,  0,  0,  0,  0],\n",
       "       [ 4,  0,  0,  0,  0,  0,  0,  0,  0,  0, 55,  0,  0,  0],\n",
       "       [ 3,  0,  0,  0,  0,  0,  0,  0,  0,  0,  0, 55,  0,  0],\n",
       "       [ 1,  0,  0,  0,  0,  0,  0,  0,  0,  0,  0,  0, 42,  0],\n",
       "       [ 6,  0,  0,  0,  0,  0,  0,  0,  0,  0,  0,  0,  0, 49]],\n",
       "      dtype=int64)"
      ]
     },
     "execution_count": 25,
     "metadata": {},
     "output_type": "execute_result"
    }
   ],
   "source": [
    "from sklearn.metrics import confusion_matrix, accuracy_score\n",
    "cm = confusion_matrix(y_OHE_test.argmax(axis=1), y_pred.argmax(axis=1))\n",
    "cm"
   ]
  },
  {
   "cell_type": "code",
   "execution_count": 26,
   "metadata": {
    "colab": {
     "base_uri": "https://localhost:8080/"
    },
    "executionInfo": {
     "elapsed": 18,
     "status": "ok",
     "timestamp": 1627464836708,
     "user": {
      "displayName": "Nawaz NM",
      "photoUrl": "https://lh3.googleusercontent.com/a-/AOh14GgewJHtCrvL1OtL24NKc-IuG_YYfVEOazEnrtVtUg=s64",
      "userId": "10329758736889037941"
     },
     "user_tz": -330
    },
    "id": "kBtT1_fclwVo",
    "outputId": "50fcf79f-d8aa-497e-cdfe-343d98214398"
   },
   "outputs": [
    {
     "data": {
      "text/plain": [
       "0.9585714285714285"
      ]
     },
     "execution_count": 26,
     "metadata": {},
     "output_type": "execute_result"
    }
   ],
   "source": [
    "accuracy_score(y_OHE_test, y_pred)"
   ]
  },
  {
   "cell_type": "code",
   "execution_count": 27,
   "metadata": {
    "executionInfo": {
     "elapsed": 15,
     "status": "ok",
     "timestamp": 1627464836708,
     "user": {
      "displayName": "Nawaz NM",
      "photoUrl": "https://lh3.googleusercontent.com/a-/AOh14GgewJHtCrvL1OtL24NKc-IuG_YYfVEOazEnrtVtUg=s64",
      "userId": "10329758736889037941"
     },
     "user_tz": -330
    },
    "id": "eZhT_Hzzl5fA"
   },
   "outputs": [],
   "source": [
    "import pandas as pd\n",
    "import seaborn as sn\n",
    "import matplotlib.pyplot as plt\n",
    "import sklearn.metrics"
   ]
  },
  {
   "cell_type": "code",
   "execution_count": 28,
   "metadata": {
    "colab": {
     "base_uri": "https://localhost:8080/",
     "height": 751
    },
    "executionInfo": {
     "elapsed": 2301,
     "status": "ok",
     "timestamp": 1627464838995,
     "user": {
      "displayName": "Nawaz NM",
      "photoUrl": "https://lh3.googleusercontent.com/a-/AOh14GgewJHtCrvL1OtL24NKc-IuG_YYfVEOazEnrtVtUg=s64",
      "userId": "10329758736889037941"
     },
     "user_tz": -330
    },
    "id": "gHonLJ4Ol5cp",
    "outputId": "cccdb5d4-b4fc-4c62-ed21-1ab1bc13e87e"
   },
   "outputs": [
    {
     "data": {
      "text/plain": [
       "<AxesSubplot:xlabel='Predicted', ylabel='Actual'>"
      ]
     },
     "execution_count": 28,
     "metadata": {},
     "output_type": "execute_result"
    },
    {
     "data": {
      "image/png": "[encoded data removed]",
      "text/plain": [
       "<Figure size 720x504 with 2 Axes>"
      ]
     },
     "metadata": {},
     "output_type": "display_data"
    }
   ],
   "source": [
    "df_cm = pd.DataFrame(cm, columns=class_labels, index = class_labels)\n",
    "df_cm.index.name = 'Actual'\n",
    "df_cm.columns.name = 'Predicted'\n",
    "plt.figure(figsize = (10,7))\n",
    "sn.set(font_scale=1.4)#for label size\n",
    "sn.heatmap(df_cm, cmap=\"Blues\", annot=True,annot_kws={\"size\": 16})# font size"
   ]
  },
  {
   "cell_type": "markdown",
   "metadata": {
    "id": "ehM2hSEASs3X"
   },
   "source": [
    "### 5-Fold CV"
   ]
  },
  {
   "cell_type": "code",
   "execution_count": 29,
   "metadata": {
    "executionInfo": {
     "elapsed": 16,
     "status": "ok",
     "timestamp": 1627464838997,
     "user": {
      "displayName": "Nawaz NM",
      "photoUrl": "https://lh3.googleusercontent.com/a-/AOh14GgewJHtCrvL1OtL24NKc-IuG_YYfVEOazEnrtVtUg=s64",
      "userId": "10329758736889037941"
     },
     "user_tz": -330
    },
    "id": "KsKkNHswny4o"
   },
   "outputs": [],
   "source": [
    "X_OHE = X\n",
    "\n",
    "from sklearn.preprocessing import StandardScaler\n",
    "sc = StandardScaler()\n",
    "X_OHE = sc.fit_transform(X_OHE)"
   ]
  },
  {
   "cell_type": "code",
   "execution_count": 30,
   "metadata": {
    "colab": {
     "base_uri": "https://localhost:8080/"
    },
    "executionInfo": {
     "elapsed": 15,
     "status": "ok",
     "timestamp": 1627464838998,
     "user": {
      "displayName": "Nawaz NM",
      "photoUrl": "https://lh3.googleusercontent.com/a-/AOh14GgewJHtCrvL1OtL24NKc-IuG_YYfVEOazEnrtVtUg=s64",
      "userId": "10329758736889037941"
     },
     "user_tz": -330
    },
    "id": "JTyYKjg5qDZZ",
    "outputId": "b94a95cb-9f59-47b1-9f9e-a2803804ec40"
   },
   "outputs": [
    {
     "data": {
      "text/plain": [
       "numpy.ndarray"
      ]
     },
     "execution_count": 30,
     "metadata": {},
     "output_type": "execute_result"
    }
   ],
   "source": [
    "type(X_OHE)"
   ]
  },
  {
   "cell_type": "code",
   "execution_count": 31,
   "metadata": {
    "colab": {
     "base_uri": "https://localhost:8080/"
    },
    "executionInfo": {
     "elapsed": 14,
     "status": "ok",
     "timestamp": 1627464839000,
     "user": {
      "displayName": "Nawaz NM",
      "photoUrl": "https://lh3.googleusercontent.com/a-/AOh14GgewJHtCrvL1OtL24NKc-IuG_YYfVEOazEnrtVtUg=s64",
      "userId": "10329758736889037941"
     },
     "user_tz": -330
    },
    "id": "c27VcpJ-l5Zp",
    "outputId": "f3b34328-f47d-4968-8801-9b61d5c852f7"
   },
   "outputs": [
    {
     "name": "stdout",
     "output_type": "stream",
     "text": [
      "Fold:1, Train set: 2800, Test set:700\n",
      "Fold:2, Train set: 2800, Test set:700\n",
      "Fold:3, Train set: 2800, Test set:700\n",
      "Fold:4, Train set: 2800, Test set:700\n",
      "Fold:5, Train set: 2800, Test set:700\n"
     ]
    }
   ],
   "source": [
    "from sklearn.model_selection import StratifiedKFold\n",
    "kf = StratifiedKFold(n_splits=5, shuffle=True, random_state=42)\n",
    "\n",
    "cnt = 1\n",
    "# split()  method generate indices to split data into training and test set.\n",
    "for train_index, test_index in kf.split(X_OHE, y_14):\n",
    "    print(f'Fold:{cnt}, Train set: {len(train_index)}, Test set:{len(test_index)}')\n",
    "    cnt+=1"
   ]
  },
  {
   "cell_type": "code",
   "execution_count": 32,
   "metadata": {
    "colab": {
     "base_uri": "https://localhost:8080/"
    },
    "executionInfo": {
     "elapsed": 15528,
     "status": "ok",
     "timestamp": 1627464854517,
     "user": {
      "displayName": "Nawaz NM",
      "photoUrl": "https://lh3.googleusercontent.com/a-/AOh14GgewJHtCrvL1OtL24NKc-IuG_YYfVEOazEnrtVtUg=s64",
      "userId": "10329758736889037941"
     },
     "user_tz": -330
    },
    "id": "5OVc4Cc7nrB9",
    "outputId": "8d3b94bb-e9c4-4dcf-89fb-72cea3bfcc69"
   },
   "outputs": [
    {
     "name": "stdout",
     "output_type": "stream",
     "text": [
      "Scores for each fold are: [0.97857143 0.98285714 0.98428571 0.98571429 0.98      ]\n",
      "Average score: 0.9823\n"
     ]
    }
   ],
   "source": [
    "from sklearn.model_selection import cross_val_score\n",
    "score = cross_val_score(RandomForestClassifier(n_estimators = 84, criterion = 'entropy', random_state = 0), X_OHE, y_14, cv= kf, scoring=\"accuracy\")\n",
    "print(f'Scores for each fold are: {score}')\n",
    "print(f'Average score: {\"{:.4f}\".format(score.mean())}')\n"
   ]
  },
  {
   "cell_type": "code",
   "execution_count": 33,
   "metadata": {
    "colab": {
     "base_uri": "https://localhost:8080/"
    },
    "executionInfo": {
     "elapsed": 9242,
     "status": "ok",
     "timestamp": 1627464863756,
     "user": {
      "displayName": "Nawaz NM",
      "photoUrl": "https://lh3.googleusercontent.com/a-/AOh14GgewJHtCrvL1OtL24NKc-IuG_YYfVEOazEnrtVtUg=s64",
      "userId": "10329758736889037941"
     },
     "user_tz": -330
    },
    "id": "d3nLwxYSr6by",
    "outputId": "c8c938d1-14b4-4d3b-8133-b0e9721400c3"
   },
   "outputs": [
    {
     "name": "stdout",
     "output_type": "stream",
     "text": [
      "Scores for each fold are: [0.98714286 0.98857143 0.98571429 0.99285714 0.99142857]\n",
      "Average score: 0.9891\n"
     ]
    }
   ],
   "source": [
    "from sklearn.model_selection import cross_val_score\n",
    "score = cross_val_score(RandomForestClassifier(n_estimators = 84, criterion = 'entropy', random_state = 0), X_OHE, y_4, cv= kf, scoring=\"accuracy\")\n",
    "print(f'Scores for each fold are: {score}')\n",
    "print(f'Average score: {\"{:.4f}\".format(score.mean())}')\n"
   ]
  },
  {
   "cell_type": "code",
   "execution_count": null,
   "metadata": {
    "executionInfo": {
     "elapsed": 13,
     "status": "ok",
     "timestamp": 1627464863757,
     "user": {
      "displayName": "Nawaz NM",
      "photoUrl": "https://lh3.googleusercontent.com/a-/AOh14GgewJHtCrvL1OtL24NKc-IuG_YYfVEOazEnrtVtUg=s64",
      "userId": "10329758736889037941"
     },
     "user_tz": -330
    },
    "id": "LlnFFw-er6ZG"
   },
   "outputs": [],
   "source": []
  },
  {
   "cell_type": "code",
   "execution_count": null,
   "metadata": {
    "executionInfo": {
     "elapsed": 13,
     "status": "ok",
     "timestamp": 1627464863758,
     "user": {
      "displayName": "Nawaz NM",
      "photoUrl": "https://lh3.googleusercontent.com/a-/AOh14GgewJHtCrvL1OtL24NKc-IuG_YYfVEOazEnrtVtUg=s64",
      "userId": "10329758736889037941"
     },
     "user_tz": -330
    },
    "id": "sg9OJkDFr6WS"
   },
   "outputs": [],
   "source": []
  }
 ],
 "metadata": {
  "colab": {
   "authorship_tag": "ABX9TyMR2tDWLJfPfGzWWifPodDh",
   "name": "DE2500_RandomForest.ipynb",
   "provenance": []
  },
  "kernelspec": {
   "display_name": "Python 3",
   "language": "python",
   "name": "python3"
  },
  "language_info": {
   "codemirror_mode": {
    "name": "ipython",
    "version": 3
   },
   "file_extension": ".py",
   "mimetype": "text/x-python",
   "name": "python",
   "nbconvert_exporter": "python",
   "pygments_lexer": "ipython3",
   "version": "3.8.8"
  }
 },
 "nbformat": 4,
 "nbformat_minor": 1
}
